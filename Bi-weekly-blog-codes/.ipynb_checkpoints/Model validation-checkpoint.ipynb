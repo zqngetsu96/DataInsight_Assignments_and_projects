{
 "cells": [
  {
   "cell_type": "code",
   "execution_count": 41,
   "id": "ea5812aa",
   "metadata": {},
   "outputs": [],
   "source": [
    "from sklearn import decomposition\n",
    "from sklearn.linear_model import LinearRegression\n",
    "from sklearn.ensemble import RandomForestClassifier\n",
    "from sklearn.model_selection import train_test_split\n",
    "from sklearn import datasets\n",
    "import numpy as np\n",
    "import matplotlib.pyplot as plt\n",
    "from sklearn.cluster import KMeans\n",
    "from sklearn.metrics import recall_score, accuracy_score, precision_score, confusion_matrix, roc_auc_score"
   ]
  },
  {
   "cell_type": "code",
   "execution_count": 3,
   "id": "448f8d61",
   "metadata": {},
   "outputs": [
    {
     "name": "stdout",
     "output_type": "stream",
     "text": [
      "Scores (Accuracy) calculation\n",
      "Train accuracy: 100.0%\n",
      "Test accuracy: 97.78 %\n"
     ]
    }
   ],
   "source": [
    "iris = datasets.load_iris()\n",
    "X = iris.data\n",
    "y = iris.target\n",
    "\n",
    "\n",
    "X_train,X_test,y_train,y_test = train_test_split(X,y,test_size=0.3)\n",
    "\n",
    "\n",
    "classifier = RandomForestClassifier() #Notice the default\n",
    "classifier.fit(X_train,y_train)\n",
    "\n",
    "print(\"Scores (Accuracy) calculation\")\n",
    "print(\"Train accuracy: \" + str(classifier.score(X_train,y_train) * 100)+ \"%\")\n",
    "print(\"Test accuracy: {:.2f} \".format(classifier.score(X_test,y_test) * 100) + \"%\")\n",
    "\n",
    "\n",
    "predictions = classifier.predict(X_test)\n"
   ]
  },
  {
   "cell_type": "markdown",
   "id": "793da3c7",
   "metadata": {},
   "source": [
    "### Accuracy"
   ]
  },
  {
   "cell_type": "code",
   "execution_count": 15,
   "id": "a9054755",
   "metadata": {},
   "outputs": [
    {
     "name": "stdout",
     "output_type": "stream",
     "text": [
      "The model's accuracy is 97.777778%\n"
     ]
    }
   ],
   "source": [
    "print(\"The model's accuracy is {:2f}%\".format(accuracy_score(y_test,predictions) * 100))"
   ]
  },
  {
   "cell_type": "markdown",
   "id": "779ba9fa",
   "metadata": {},
   "source": [
    "### Precision"
   ]
  },
  {
   "cell_type": "code",
   "execution_count": 45,
   "id": "72d303e0",
   "metadata": {},
   "outputs": [
    {
     "name": "stdout",
     "output_type": "stream",
     "text": [
      "The model's precision is 98.039216%\n"
     ]
    }
   ],
   "source": [
    "print(\"The model's precision is {:2f}%\".format(precision_score(y_test,predictions,average='macro') * 100))"
   ]
  },
  {
   "cell_type": "markdown",
   "id": "94a9da89",
   "metadata": {},
   "source": [
    "### Recall"
   ]
  },
  {
   "cell_type": "code",
   "execution_count": 46,
   "id": "7d91865e",
   "metadata": {},
   "outputs": [
    {
     "name": "stdout",
     "output_type": "stream",
     "text": [
      "The model's recall is 97.222222%\n"
     ]
    }
   ],
   "source": [
    "print(\"The model's recall is {:2f}%\".format(recall_score(y_test,predictions,average='macro') * 100))"
   ]
  },
  {
   "cell_type": "markdown",
   "id": "835fa5d9",
   "metadata": {},
   "source": [
    "### Confusion matrix"
   ]
  },
  {
   "cell_type": "code",
   "execution_count": 37,
   "id": "ce4d0f1f",
   "metadata": {},
   "outputs": [
    {
     "data": {
      "image/png": "[encoded data removed]",
      "text/plain": [
       "<Figure size 432x288 with 2 Axes>"
      ]
     },
     "metadata": {
      "needs_background": "light"
     },
     "output_type": "display_data"
    }
   ],
   "source": [
    "import seaborn as sns\n",
    "cf_matrix = confusion_matrix(y_test,predictions)\n",
    "ax = sns.heatmap(cf_matrix, annot=True)\n",
    "#Titles\n",
    "ax.set_title('Confusion matrix');\n",
    "ax.set_xlabel('\\nPredicted Values')\n",
    "ax.set_ylabel('Actual Values ');\n",
    "#Set lebels\n",
    "ax.xaxis.set_ticklabels(['setosa','versicolor','virginica'])\n",
    "ax.yaxis.set_ticklabels(['setosa','versicolor','virginica'])\n",
    "plt.show()"
   ]
  },
  {
   "cell_type": "markdown",
   "id": "5a1679bf",
   "metadata": {},
   "source": [
    "### AUC score"
   ]
  },
  {
   "cell_type": "code",
   "execution_count": 49,
   "id": "bb3c5e30",
   "metadata": {},
   "outputs": [
    {
     "name": "stdout",
     "output_type": "stream",
     "text": [
      "The model's AUC score is 99.843986%\n"
     ]
    }
   ],
   "source": [
    "predictions_proba = classifier.predict_proba(X_test) #Note that we use probabilities here (to varry the threshhold)\n",
    "print(\"The model's AUC score is {:2f}%\".format(roc_auc_score(y_test, predictions_proba, multi_class='ovr') * 100)) #ovr is for multi-class\n"
   ]
  },
  {
   "cell_type": "code",
   "execution_count": 50,
   "id": "64641a58",
   "metadata": {},
   "outputs": [],
   "source": [
    "temp_X,X_test,temp_Y,y_test = train_test_split(X,y,test_size=0.3)"
   ]
  },
  {
   "cell_type": "code",
   "execution_count": 52,
   "id": "fb52b359",
   "metadata": {
    "scrolled": true
   },
   "outputs": [
    {
     "data": {
      "text/plain": [
       "array([2, 0, 1, 2, 1, 1, 1, 1, 1, 1, 1, 2, 1, 0, 0, 0, 2, 1, 1, 1, 2, 2,\n",
       "       1, 2, 2, 2, 1, 2, 2, 1, 2, 1, 2, 1, 1, 1, 0, 0, 2, 0, 0, 1, 2, 0,\n",
       "       1])"
      ]
     },
     "execution_count": 52,
     "metadata": {},
     "output_type": "execute_result"
    }
   ],
   "source": [
    "temp_X,X_t,temp_val,y_val = train_test_split(X,y,test_size=0.3)"
   ]
  },
  {
   "cell_type": "markdown",
   "id": "ee8084dd",
   "metadata": {},
   "source": [
    "## Train test split and validation"
   ]
  },
  {
   "cell_type": "code",
   "execution_count": 54,
   "id": "9132f79e",
   "metadata": {},
   "outputs": [],
   "source": [
    "X_train,X_test,y_train,y_test = train_test_split(X,y,test_size=0.3) #Create only train and test sets"
   ]
  },
  {
   "cell_type": "code",
   "execution_count": 57,
   "id": "4032004f",
   "metadata": {},
   "outputs": [
    {
     "name": "stdout",
     "output_type": "stream",
     "text": [
      "(78, 4)\n",
      "(45, 4)\n",
      "(27, 4)\n"
     ]
    }
   ],
   "source": [
    "X_temp,X_test,y_temp,y_test = train_test_split(X,y,test_size=0.3) #Create temp and test sets\n",
    "X_train,X_val,y_train,y_val = train_test_split(X_temp,y_temp,test_size=0.25) #Create train, val, test sets\n",
    "print(X_train.shape)\n",
    "print(X_test.shape)\n",
    "print(X_val.shape)"
   ]
  },
  {
   "cell_type": "code",
   "execution_count": null,
   "id": "6e9f0b36",
   "metadata": {},
   "outputs": [],
   "source": []
  }
 ],
 "metadata": {
  "kernelspec": {
   "display_name": "Python 3.7.11 ('IE')",
   "language": "python",
   "name": "python3711jvsc74a57bd0634ff1ef20deb3047cfc85d6d58e38af569457f34836cd6d1031a9fb793cbe1b"
  },
  "language_info": {
   "codemirror_mode": {
    "name": "ipython",
    "version": 3
   },
   "file_extension": ".py",
   "mimetype": "text/x-python",
   "name": "python",
   "nbconvert_exporter": "python",
   "pygments_lexer": "ipython3",
   "version": "3.7.11"
  }
 },
 "nbformat": 4,
 "nbformat_minor": 5
}
