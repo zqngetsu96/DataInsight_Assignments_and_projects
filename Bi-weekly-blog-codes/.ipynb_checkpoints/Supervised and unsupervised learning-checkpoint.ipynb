{
 "cells": [
  {
   "cell_type": "code",
   "execution_count": 4,
   "id": "06c46e8b",
   "metadata": {},
   "outputs": [],
   "source": [
    "from sklearn import decomposition\n",
    "from sklearn.linear_model import LinearRegression\n",
    "from sklearn.ensemble import RandomForestClassifier\n",
    "from sklearn.model_selection import train_test_split\n",
    "from sklearn import datasets\n",
    "import numpy as np\n",
    "import matplotlib.pyplot as plt"
   ]
  },
  {
   "cell_type": "markdown",
   "id": "455ef938",
   "metadata": {},
   "source": [
    "## Classification example"
   ]
  },
  {
   "cell_type": "code",
   "execution_count": 20,
   "id": "af32b8f5",
   "metadata": {
    "scrolled": false
   },
   "outputs": [
    {
     "name": "stdout",
     "output_type": "stream",
     "text": [
      "Scores (Accuracy) calculation\n",
      "Train accuracy: 100.0%\n",
      "Test accuracy: 91.11 %\n",
      "Prediction: 1 , Ground Truth 1\n",
      "Prediction: 2 , Ground Truth 2\n",
      "Prediction: 1 , Ground Truth 1\n",
      "Prediction: 1 , Ground Truth 1\n",
      "Prediction: 1 , Ground Truth 2\n",
      "Prediction: 1 , Ground Truth 1\n",
      "Prediction: 2 , Ground Truth 2\n",
      "Prediction: 2 , Ground Truth 2\n",
      "Prediction: 0 , Ground Truth 0\n",
      "Prediction: 2 , Ground Truth 2\n",
      "Prediction: 2 , Ground Truth 2\n",
      "Prediction: 0 , Ground Truth 0\n",
      "Prediction: 2 , Ground Truth 2\n",
      "Prediction: 1 , Ground Truth 1\n",
      "Prediction: 0 , Ground Truth 0\n",
      "Prediction: 2 , Ground Truth 2\n",
      "Prediction: 0 , Ground Truth 0\n",
      "Prediction: 0 , Ground Truth 0\n",
      "Prediction: 1 , Ground Truth 1\n",
      "Prediction: 2 , Ground Truth 2\n",
      "Prediction: 2 , Ground Truth 2\n",
      "Prediction: 1 , Ground Truth 1\n",
      "Prediction: 1 , Ground Truth 1\n",
      "Prediction: 0 , Ground Truth 0\n",
      "Prediction: 1 , Ground Truth 1\n",
      "Prediction: 0 , Ground Truth 0\n",
      "Prediction: 0 , Ground Truth 0\n",
      "Prediction: 0 , Ground Truth 0\n",
      "Prediction: 1 , Ground Truth 1\n",
      "Prediction: 0 , Ground Truth 0\n",
      "Prediction: 2 , Ground Truth 2\n",
      "Prediction: 1 , Ground Truth 2\n",
      "Prediction: 2 , Ground Truth 2\n",
      "Prediction: 0 , Ground Truth 0\n",
      "Prediction: 0 , Ground Truth 0\n",
      "Prediction: 0 , Ground Truth 0\n",
      "Prediction: 2 , Ground Truth 1\n",
      "Prediction: 2 , Ground Truth 2\n",
      "Prediction: 1 , Ground Truth 1\n",
      "Prediction: 0 , Ground Truth 0\n",
      "Prediction: 0 , Ground Truth 0\n",
      "Prediction: 1 , Ground Truth 2\n",
      "Prediction: 1 , Ground Truth 1\n",
      "Prediction: 0 , Ground Truth 0\n",
      "Prediction: 1 , Ground Truth 1\n"
     ]
    }
   ],
   "source": [
    "iris = datasets.load_iris()\n",
    "X = iris.data\n",
    "y = iris.target\n",
    "\n",
    "\n",
    "X_train,X_test,y_train,y_test = train_test_split(X,y,test_size=0.3)\n",
    "\n",
    "\n",
    "classifier = RandomForestClassifier() #Notice the default\n",
    "classifier.fit(X_train,y_train)\n",
    "\n",
    "print(\"Scores (Accuracy) calculation\")\n",
    "print(\"Train accuracy: \" + str(classifier.score(X_train,y_train) * 100)+ \"%\")\n",
    "print(\"Test accuracy: {:.2f} \".format(classifier.score(X_test,y_test) * 100) + \"%\")\n",
    "\n",
    "\n",
    "predictions = classifier.predict(X_test)\n",
    "\n",
    "for i in range(len(predictions)):\n",
    "    print(\"Prediction: {} , Ground Truth {}\".format(predictions[i],y_test[i]))"
   ]
  },
  {
   "cell_type": "markdown",
   "id": "9c537182",
   "metadata": {},
   "source": [
    "## Regression problem"
   ]
  },
  {
   "cell_type": "code",
   "execution_count": 34,
   "id": "377759f8",
   "metadata": {},
   "outputs": [
    {
     "name": "stdout",
     "output_type": "stream",
     "text": [
      "True a : 3, Predicted a: [3.]:\n",
      "True b : 2, Predicted b: 1.9999999999999432:\n"
     ]
    }
   ],
   "source": [
    "x_axis = np.arange(100)\n",
    "a = 3\n",
    "b = 2\n",
    "y_truth = x_axis * a + b\n",
    "\n",
    "linear_model = LinearRegression()\n",
    "linear_model.fit(x_axis.reshape(-1,1),y_truth)\n",
    "\n",
    "print(\"True a : {}, Predicted a: {}:\".format(a,linear_model.coef_))\n",
    "print(\"True b : {}, Predicted b: {}:\".format(b,linear_model.intercept_))"
   ]
  },
  {
   "cell_type": "code",
   "execution_count": null,
   "id": "b13f09f8",
   "metadata": {},
   "outputs": [],
   "source": []
  },
  {
   "cell_type": "code",
   "execution_count": null,
   "id": "2ec20304",
   "metadata": {},
   "outputs": [],
   "source": []
  }
 ],
 "metadata": {
  "kernelspec": {
   "display_name": "Python 3.7.11 ('IE')",
   "language": "python",
   "name": "python3711jvsc74a57bd0634ff1ef20deb3047cfc85d6d58e38af569457f34836cd6d1031a9fb793cbe1b"
  },
  "language_info": {
   "codemirror_mode": {
    "name": "ipython",
    "version": 3
   },
   "file_extension": ".py",
   "mimetype": "text/x-python",
   "name": "python",
   "nbconvert_exporter": "python",
   "pygments_lexer": "ipython3",
   "version": "3.7.11"
  }
 },
 "nbformat": 4,
 "nbformat_minor": 5
}
