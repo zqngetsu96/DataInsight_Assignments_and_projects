{
 "cells": [
  {
   "cell_type": "markdown",
   "id": "0499a2e1",
   "metadata": {},
   "source": [
    "# Loops"
   ]
  },
  {
   "cell_type": "markdown",
   "id": "ff1fe64e",
   "metadata": {},
   "source": [
    "### for loop"
   ]
  },
  {
   "cell_type": "code",
   "execution_count": 1,
   "id": "6ea7c775",
   "metadata": {},
   "outputs": [
    {
     "name": "stdout",
     "output_type": "stream",
     "text": [
      "1 3 5 7 9 "
     ]
    }
   ],
   "source": [
    "for i in range(1,10,2):\n",
    "    print(i,end=' ')"
   ]
  },
  {
   "cell_type": "code",
   "execution_count": 2,
   "id": "99818fec",
   "metadata": {},
   "outputs": [
    {
     "name": "stdout",
     "output_type": "stream",
     "text": [
      "1 2 3 4 5 6 5 4 3 2 1 "
     ]
    }
   ],
   "source": [
    "for i in [1,2,3,4,5,6,5,4,3,2,1]:\n",
    "    print(i,end=' ')"
   ]
  },
  {
   "cell_type": "code",
   "execution_count": 3,
   "id": "930e60ab",
   "metadata": {},
   "outputs": [
    {
     "name": "stdout",
     "output_type": "stream",
     "text": [
      "d a t a i n s i g h t "
     ]
    }
   ],
   "source": [
    "for i in 'datainsight':\n",
    "    print(i,end=' ')"
   ]
  },
  {
   "cell_type": "markdown",
   "id": "e8501d35",
   "metadata": {},
   "source": [
    "### Nesting a for loop"
   ]
  },
  {
   "cell_type": "code",
   "execution_count": 4,
   "id": "1a95e651",
   "metadata": {},
   "outputs": [
    {
     "name": "stdout",
     "output_type": "stream",
     "text": [
      "10 9 8 7 6 5 4 3 2 \n",
      "\n",
      "10 9 8 7 6 5 4 3 2 \n",
      "\n",
      "10 9 8 7 6 5 4 3 2 \n",
      "\n",
      "10 9 8 7 6 5 4 3 2 \n",
      "\n",
      "10 9 8 7 6 5 4 3 2 \n",
      "\n",
      "10 9 8 7 6 5 4 3 2 \n",
      "\n",
      "10 9 8 7 6 5 4 3 2 \n",
      "\n",
      "10 9 8 7 6 5 4 3 2 \n",
      "\n",
      "10 9 8 7 6 5 4 3 2 \n",
      "\n"
     ]
    }
   ],
   "source": [
    "for i in range(1,10,1):\n",
    "    for j in range(10,1,-1):\n",
    "        print(j,end=' ')\n",
    "    print('\\n')"
   ]
  },
  {
   "cell_type": "markdown",
   "id": "2b2a5d82",
   "metadata": {},
   "source": [
    "### while loop"
   ]
  },
  {
   "cell_type": "code",
   "execution_count": 5,
   "id": "99c5cb9f",
   "metadata": {},
   "outputs": [
    {
     "name": "stdout",
     "output_type": "stream",
     "text": [
      "0 1 2 3 4 5 6 7 8 9 "
     ]
    }
   ],
   "source": [
    "x = 0\n",
    "while x < 10:\n",
    "    print(x, end=' ')\n",
    "    x+=1"
   ]
  },
  {
   "cell_type": "code",
   "execution_count": 6,
   "id": "c340b7c0",
   "metadata": {},
   "outputs": [
    {
     "name": "stdout",
     "output_type": "stream",
     "text": [
      "Enter a guess  : wrong guess\n",
      "Enter a guess  : lucky guess\n",
      "You did it!\n"
     ]
    }
   ],
   "source": [
    "guess = 'lucky guess'\n",
    "user_input = ''\n",
    "while user_input!= guess :  # This constructs an infinite loop\n",
    "    user_input = input(\"Enter a guess  : \")\n",
    "\n",
    "print('You did it!')"
   ]
  },
  {
   "cell_type": "markdown",
   "id": "f0a2271f",
   "metadata": {},
   "source": [
    "### Nesting both loops for a guessing game"
   ]
  },
  {
   "cell_type": "code",
   "execution_count": 17,
   "id": "42b60c04",
   "metadata": {},
   "outputs": [
    {
     "name": "stdout",
     "output_type": "stream",
     "text": [
      "You get three guesses per word\n",
      "Secret word to guess work\n",
      "Enter a guess  : w\n",
      "Enter a guess  : w\n",
      "Enter a guess  : w\n",
      "Secret word to guess game\n",
      "Enter a guess  : y\n",
      "Enter a guess  : y\n",
      "Enter a guess  : y\n",
      "Secret word to guess home\n",
      "Enter a guess  : z\n",
      "Enter a guess  : z\n",
      "Enter a guess  : home\n",
      "you did it!\n"
     ]
    }
   ],
   "source": [
    "tries = 3\n",
    "words = ['work','game','home']\n",
    "print('You get three guesses per word')\n",
    "guessed_right = False\n",
    "for w in words:\n",
    "    t = 0\n",
    "    print('Secret word to guess', w)\n",
    "    user_input=''\n",
    "    while w != user_input and t < tries:\n",
    "        t+=1\n",
    "        user_input = input(\"Enter a guess  : \")\n",
    "    if w == user_input:\n",
    "        guessed_right = True\n",
    "        break\n",
    "    else:\n",
    "        continue\n",
    "\n",
    "if guessed_right == False:\n",
    "    print(\"you're out of tries :( , you lost\")\n",
    "else:  \n",
    "    print('you did it!')"
   ]
  },
  {
   "cell_type": "markdown",
   "id": "efd6e66e",
   "metadata": {},
   "source": [
    "# Control statements"
   ]
  },
  {
   "cell_type": "code",
   "execution_count": 8,
   "id": "d38c64c3",
   "metadata": {},
   "outputs": [
    {
     "name": "stdout",
     "output_type": "stream",
     "text": [
      "1 3 5 7 9 "
     ]
    }
   ],
   "source": [
    "for i in range(1,10,1):\n",
    "    if i % 2 == 0: \n",
    "        continue\n",
    "    print(i,end=' ')"
   ]
  },
  {
   "cell_type": "code",
   "execution_count": 9,
   "id": "73a05465",
   "metadata": {},
   "outputs": [
    {
     "name": "stdout",
     "output_type": "stream",
     "text": [
      "1 2 3 4 5 "
     ]
    }
   ],
   "source": [
    "for i in range(1,10,1):\n",
    "    print(i,end=' ')\n",
    "    if i  == 5: \n",
    "        break\n",
    "   "
   ]
  },
  {
   "cell_type": "code",
   "execution_count": 10,
   "id": "654e4400",
   "metadata": {},
   "outputs": [
    {
     "name": "stdout",
     "output_type": "stream",
     "text": [
      "0 1 2 3 4 I don't know what to do when it's 5, but i'll keep this here so i come back to it\n",
      "5 6 7 8 9 "
     ]
    }
   ],
   "source": [
    "for i in range(10):\n",
    "    if i == 5:\n",
    "        pass\n",
    "        print(\"I don't know what to do when it's {}, but i'll keep this here so i come back to it\".format(i))\n",
    "    print(i,end = ' ')"
   ]
  },
  {
   "cell_type": "code",
   "execution_count": null,
   "id": "8aab522e",
   "metadata": {},
   "outputs": [],
   "source": []
  }
 ],
 "metadata": {
  "kernelspec": {
   "display_name": "Python 3",
   "language": "python",
   "name": "python3"
  },
  "language_info": {
   "codemirror_mode": {
    "name": "ipython",
    "version": 3
   },
   "file_extension": ".py",
   "mimetype": "text/x-python",
   "name": "python",
   "nbconvert_exporter": "python",
   "pygments_lexer": "ipython3",
   "version": "3.8.8"
  }
 },
 "nbformat": 4,
 "nbformat_minor": 5
}
