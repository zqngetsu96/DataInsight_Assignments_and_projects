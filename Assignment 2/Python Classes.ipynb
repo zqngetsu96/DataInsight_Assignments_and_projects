{
 "cells": [
  {
   "cell_type": "markdown",
   "id": "1046b0c8",
   "metadata": {},
   "source": [
    "## Class definition"
   ]
  },
  {
   "cell_type": "code",
   "execution_count": 1,
   "id": "afd2b568",
   "metadata": {},
   "outputs": [],
   "source": [
    "class class1(object):\n",
    "    'This is a class showing a basic definition squeleton in OOP'\n",
    "    def __init__(self):\n",
    "        print('this is my constructor, am now a class 1 object!')\n",
    "        self.value1 = 'value 1'\n",
    "        self.value2 = 2\n",
    "\n",
    "    def show_my_attributes(self):\n",
    "        print('this is value 1: \"{}\"'.format(self.value1))\n",
    "        print('this is value 2: \"{}\"'.format(self.value2))\n",
    "\n",
    "    def method_to_inherit(self,x):\n",
    "        print('this is class1 displaying a value: {}<a'.format(x))\n",
    "        \n",
    "    def method_to_change(self):\n",
    "        print('This method will be changed later')"
   ]
  },
  {
   "cell_type": "code",
   "execution_count": 2,
   "id": "410022f5",
   "metadata": {
    "scrolled": true
   },
   "outputs": [
    {
     "name": "stdout",
     "output_type": "stream",
     "text": [
      "this is my constructor, am now a class 1 object!\n",
      "_____________________________________________\n",
      "this is value 1: \"value 1\"\n",
      "this is value 2: \"2\"\n",
      "_____________________________________________\n",
      "this is class1 displaying a value: 50<a\n",
      "_____________________________________________\n",
      "This method will be changed later\n"
     ]
    }
   ],
   "source": [
    "c = class1()\n",
    "print('_____________________________________________')\n",
    "c.show_my_attributes()\n",
    "print('_____________________________________________')\n",
    "c.method_to_inherit(50)\n",
    "print('_____________________________________________')\n",
    "c.method_to_change()"
   ]
  },
  {
   "cell_type": "markdown",
   "id": "e3ae6836",
   "metadata": {},
   "source": [
    "## Inheritence"
   ]
  },
  {
   "cell_type": "code",
   "execution_count": 3,
   "id": "0fa187d9",
   "metadata": {
    "scrolled": true
   },
   "outputs": [
    {
     "name": "stdout",
     "output_type": "stream",
     "text": [
      "this is my constructor, am now a class 1 object!\n",
      "After getting the attribute of my main class I can add other ones that are mine\n",
      "_____________________________________________\n",
      "this is class1 displaying a value: 30<a\n",
      "_____________________________________________\n",
      "this is value 1: \"value 1\"\n",
      "this is value 2: \"2\"\n",
      "_____________________________________________\n"
     ]
    }
   ],
   "source": [
    "class class2(class1):\n",
    "    def __init__(self):\n",
    "        super().__init__()\n",
    "        print('After getting the attribute of my main class I can add other ones that are mine')\n",
    "        self.value3 = 3\n",
    "    \n",
    "    def method_to_change(self):\n",
    "        print('This class has changed me!')\n",
    "        \n",
    "\n",
    "d = class2()\n",
    "print('_____________________________________________')\n",
    "d.method_to_inherit(30)\n",
    "print('_____________________________________________')\n",
    "d.show_my_attributes()\n",
    "print('_____________________________________________')\n"
   ]
  },
  {
   "cell_type": "markdown",
   "id": "f33d281d",
   "metadata": {},
   "source": [
    "## Built in attributes"
   ]
  },
  {
   "cell_type": "code",
   "execution_count": 4,
   "id": "54754953",
   "metadata": {},
   "outputs": [
    {
     "name": "stdout",
     "output_type": "stream",
     "text": [
      "class1.__doc__: This is a class showing a basic definition squeleton in OOP\n",
      "class1.__name__: class1\n",
      "class1.__module__: __main__\n",
      "class1.__bases__: (<class 'object'>,)\n",
      "class1.__dict__: {'__module__': '__main__', '__doc__': 'This is a class showing a basic definition squeleton in OOP', '__init__': <function class1.__init__ at 0x7f74ec2b45f0>, 'show_my_attributes': <function class1.show_my_attributes at 0x7f74ec2b4680>, 'method_to_inherit': <function class1.method_to_inherit at 0x7f74ec2b4710>, 'method_to_change': <function class1.method_to_change at 0x7f74ec2b47a0>, '__dict__': <attribute '__dict__' of 'class1' objects>, '__weakref__': <attribute '__weakref__' of 'class1' objects>}\n"
     ]
    }
   ],
   "source": [
    "print (\"class1.__doc__:\", class1.__doc__)\n",
    "print (\"class1.__name__:\", class1.__name__)\n",
    "print (\"class1.__module__:\", class1.__module__)\n",
    "print (\"class1.__bases__:\", class1.__bases__)\n",
    "print (\"class1.__dict__:\", class1.__dict__)"
   ]
  },
  {
   "cell_type": "markdown",
   "id": "b17bc839",
   "metadata": {},
   "source": [
    "## Operators overload"
   ]
  },
  {
   "cell_type": "code",
   "execution_count": 5,
   "id": "26ee1365",
   "metadata": {},
   "outputs": [
    {
     "name": "stdout",
     "output_type": "stream",
     "text": [
      "These are the new attributes: a:11 b:10\n"
     ]
    }
   ],
   "source": [
    "class numbers(object):\n",
    "    def __init__(self,a,b):\n",
    "        self.a = a\n",
    "        self.b = b\n",
    "    def __add__(self,other):\n",
    "        return numbers(self.a + other.a,self.b + other.b)\n",
    "    \n",
    "first = numbers(5,2)\n",
    "second = numbers(6,8)\n",
    "\n",
    "new = first + second\n",
    "\n",
    "print('These are the new attributes: a:{} b:{}'.format(new.a,new.b))"
   ]
  },
  {
   "cell_type": "code",
   "execution_count": null,
   "id": "2ef49a9c",
   "metadata": {},
   "outputs": [],
   "source": []
  }
 ],
 "metadata": {
  "kernelspec": {
   "display_name": "Python 3",
   "language": "python",
   "name": "python3"
  },
  "language_info": {
   "codemirror_mode": {
    "name": "ipython",
    "version": 3
   },
   "file_extension": ".py",
   "mimetype": "text/x-python",
   "name": "python",
   "nbconvert_exporter": "python",
   "pygments_lexer": "ipython3",
   "version": "3.7.11"
  }
 },
 "nbformat": 4,
 "nbformat_minor": 5
}
