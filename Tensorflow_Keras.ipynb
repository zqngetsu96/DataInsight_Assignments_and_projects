{
  "nbformat": 4,
  "nbformat_minor": 0,
  "metadata": {
    "colab": {
      "name": "Tensorflow_Keras.ipynb",
      "provenance": [],
      "collapsed_sections": [],
      "include_colab_link": true
    },
    "kernelspec": {
      "name": "python3",
      "display_name": "Python 3"
    },
    "language_info": {
      "name": "python"
    },
    "accelerator": "GPU"
  },
  "cells": [
    {
      "cell_type": "markdown",
      "metadata": {
        "id": "view-in-github",
        "colab_type": "text"
      },
      "source": [
        "<a href=\"https://colab.research.google.com/github/zqngetsu96/DataInsight_Assignments_and_projects/blob/main/Tensorflow_Keras.ipynb\" target=\"_parent\"><img src=\"https://colab.research.google.com/assets/colab-badge.svg\" alt=\"Open In Colab\"/></a>"
      ]
    },
    {
      "cell_type": "code",
      "execution_count": 1,
      "metadata": {
        "id": "QaBStEkGMeO-"
      },
      "outputs": [],
      "source": [
        "import tensorflow as tf\n",
        "from tensorflow.keras.models import Sequential, Model\n",
        "from tensorflow.keras.layers import BatchNormalization,Conv2D,Dense,LSTM,Dropout,Input,MaxPooling2D,Flatten\n",
        "from tensorflow.keras.optimizers import Adam, SGD\n",
        "from sklearn.model_selection import train_test_split\n",
        "from sklearn.datasets import load_iris, load_digits\n",
        "from tensorflow.keras.utils import to_categorical\n",
        "from tensorflow.keras.callbacks import EarlyStopping\n",
        "from sklearn.preprocessing import StandardScaler\n",
        "import matplotlib.pyplot as plt\n",
        "from tensorflow import keras\n",
        "import numpy as np"
      ]
    },
    {
      "cell_type": "markdown",
      "source": [
        "\n",
        "# **MLP Model** (Iris)\n",
        "**Sequential API**"
      ],
      "metadata": {
        "id": "t2UJJdQ-YXrO"
      }
    },
    {
      "cell_type": "code",
      "source": [
        "iris = load_iris()\n",
        "X = iris.data\n",
        "y = iris.target\n",
        "y = to_categorical(y) ##One hot encoding of Y\n",
        "\n",
        "X_train,X_test,y_train,y_test = train_test_split(X,y,stratify=y,test_size=0.3)\n",
        "scaler = StandardScaler().fit(X_train) #Fit a scaler for \n",
        "X_train_scaled = scaler.transform(X_train) #Transform training data\n",
        "X_test_scaled = scaler.transform(X_test) #Transform testing data"
      ],
      "metadata": {
        "id": "mxaIcr45X4Ee"
      },
      "execution_count": 2,
      "outputs": []
    },
    {
      "cell_type": "code",
      "source": [
        "model = Sequential()\n",
        "model.add(Dense(32, input_shape=(4,), activation='relu'))\n",
        "model.add(Dense(32, activation='relu'))\n",
        "model.add(Dense(32, activation='relu'))\n",
        "model.add(Dense(3, activation='softmax'))\n",
        "model.summary()\n",
        "# Compile model\n",
        "model.compile(loss='categorical_crossentropy', \n",
        "                      optimizer='adam', \n",
        "                      metrics=['accuracy'])\n",
        "hist = model.fit(X_train_scaled,y_train,validation_data=(X_test_scaled,y_test),epochs=15)"
      ],
      "metadata": {
        "id": "s_MeggauM8F-",
        "colab": {
          "base_uri": "https://localhost:8080/"
        },
        "outputId": "3e05217e-9814-4cfe-bf46-6a1e2b663b47"
      },
      "execution_count": 3,
      "outputs": [
        {
          "output_type": "stream",
          "name": "stdout",
          "text": [
            "Model: \"sequential\"\n",
            "_________________________________________________________________\n",
            " Layer (type)                Output Shape              Param #   \n",
            "=================================================================\n",
            " dense (Dense)               (None, 32)                160       \n",
            "                                                                 \n",
            " dense_1 (Dense)             (None, 32)                1056      \n",
            "                                                                 \n",
            " dense_2 (Dense)             (None, 32)                1056      \n",
            "                                                                 \n",
            " dense_3 (Dense)             (None, 3)                 99        \n",
            "                                                                 \n",
            "=================================================================\n",
            "Total params: 2,371\n",
            "Trainable params: 2,371\n",
            "Non-trainable params: 0\n",
            "_________________________________________________________________\n",
            "Epoch 1/15\n",
            "4/4 [==============================] - 1s 61ms/step - loss: 1.1396 - accuracy: 0.5810 - val_loss: 1.0819 - val_accuracy: 0.6667\n",
            "Epoch 2/15\n",
            "4/4 [==============================] - 0s 9ms/step - loss: 1.0749 - accuracy: 0.6571 - val_loss: 1.0226 - val_accuracy: 0.6667\n",
            "Epoch 3/15\n",
            "4/4 [==============================] - 0s 9ms/step - loss: 1.0187 - accuracy: 0.6667 - val_loss: 0.9713 - val_accuracy: 0.6667\n",
            "Epoch 4/15\n",
            "4/4 [==============================] - 0s 10ms/step - loss: 0.9695 - accuracy: 0.6286 - val_loss: 0.9242 - val_accuracy: 0.6667\n",
            "Epoch 5/15\n",
            "4/4 [==============================] - 0s 9ms/step - loss: 0.9197 - accuracy: 0.6286 - val_loss: 0.8807 - val_accuracy: 0.7556\n",
            "Epoch 6/15\n",
            "4/4 [==============================] - 0s 10ms/step - loss: 0.8733 - accuracy: 0.7048 - val_loss: 0.8343 - val_accuracy: 0.7556\n",
            "Epoch 7/15\n",
            "4/4 [==============================] - 0s 9ms/step - loss: 0.8266 - accuracy: 0.7619 - val_loss: 0.7845 - val_accuracy: 0.8222\n",
            "Epoch 8/15\n",
            "4/4 [==============================] - 0s 9ms/step - loss: 0.7739 - accuracy: 0.8190 - val_loss: 0.7318 - val_accuracy: 0.8667\n",
            "Epoch 9/15\n",
            "4/4 [==============================] - 0s 10ms/step - loss: 0.7222 - accuracy: 0.8190 - val_loss: 0.6742 - val_accuracy: 0.8667\n",
            "Epoch 10/15\n",
            "4/4 [==============================] - 0s 11ms/step - loss: 0.6696 - accuracy: 0.7810 - val_loss: 0.6168 - val_accuracy: 0.8667\n",
            "Epoch 11/15\n",
            "4/4 [==============================] - 0s 12ms/step - loss: 0.6168 - accuracy: 0.7619 - val_loss: 0.5630 - val_accuracy: 0.8667\n",
            "Epoch 12/15\n",
            "4/4 [==============================] - 0s 9ms/step - loss: 0.5699 - accuracy: 0.7524 - val_loss: 0.5119 - val_accuracy: 0.8667\n",
            "Epoch 13/15\n",
            "4/4 [==============================] - 0s 10ms/step - loss: 0.5263 - accuracy: 0.7524 - val_loss: 0.4651 - val_accuracy: 0.8667\n",
            "Epoch 14/15\n",
            "4/4 [==============================] - 0s 10ms/step - loss: 0.4874 - accuracy: 0.7810 - val_loss: 0.4234 - val_accuracy: 0.8667\n",
            "Epoch 15/15\n",
            "4/4 [==============================] - 0s 9ms/step - loss: 0.4541 - accuracy: 0.8095 - val_loss: 0.3851 - val_accuracy: 0.8889\n"
          ]
        }
      ]
    },
    {
      "cell_type": "markdown",
      "source": [
        "**Functional API**"
      ],
      "metadata": {
        "id": "t4IOTY99iBsj"
      }
    },
    {
      "cell_type": "code",
      "source": [
        "input = Input((4,))\n",
        "x = Dense(32, activation='relu')(input)\n",
        "x = Dense(32, activation='relu')(x)\n",
        "x = Dense(32, activation='relu')(x)\n",
        "output = Dense(3, activation='softmax')(x)\n",
        "\n",
        "model = Model(inputs=[input],outputs=[output])\n",
        "model.summary()\n",
        "\n",
        "# Compile model\n",
        "model.compile(loss='categorical_crossentropy', \n",
        "                      optimizer='adam', \n",
        "                      metrics=['accuracy'])\n",
        "history = model.fit(X_train_scaled,y_train,validation_data=(X_test_scaled,y_test),epochs=50)"
      ],
      "metadata": {
        "id": "KZbxIRNMf_3L",
        "colab": {
          "base_uri": "https://localhost:8080/"
        },
        "outputId": "fa979974-67e8-4c2f-e190-44ec4e3accfd"
      },
      "execution_count": 4,
      "outputs": [
        {
          "output_type": "stream",
          "name": "stdout",
          "text": [
            "Model: \"model\"\n",
            "_________________________________________________________________\n",
            " Layer (type)                Output Shape              Param #   \n",
            "=================================================================\n",
            " input_1 (InputLayer)        [(None, 4)]               0         \n",
            "                                                                 \n",
            " dense_4 (Dense)             (None, 32)                160       \n",
            "                                                                 \n",
            " dense_5 (Dense)             (None, 32)                1056      \n",
            "                                                                 \n",
            " dense_6 (Dense)             (None, 32)                1056      \n",
            "                                                                 \n",
            " dense_7 (Dense)             (None, 3)                 99        \n",
            "                                                                 \n",
            "=================================================================\n",
            "Total params: 2,371\n",
            "Trainable params: 2,371\n",
            "Non-trainable params: 0\n",
            "_________________________________________________________________\n",
            "Epoch 1/50\n",
            "4/4 [==============================] - 1s 55ms/step - loss: 1.0286 - accuracy: 0.5048 - val_loss: 0.9992 - val_accuracy: 0.6667\n",
            "Epoch 2/50\n",
            "4/4 [==============================] - 0s 10ms/step - loss: 0.9754 - accuracy: 0.6571 - val_loss: 0.9464 - val_accuracy: 0.6667\n",
            "Epoch 3/50\n",
            "4/4 [==============================] - 0s 10ms/step - loss: 0.9238 - accuracy: 0.6571 - val_loss: 0.8934 - val_accuracy: 0.6667\n",
            "Epoch 4/50\n",
            "4/4 [==============================] - 0s 9ms/step - loss: 0.8715 - accuracy: 0.6667 - val_loss: 0.8411 - val_accuracy: 0.6667\n",
            "Epoch 5/50\n",
            "4/4 [==============================] - 0s 10ms/step - loss: 0.8212 - accuracy: 0.6667 - val_loss: 0.7894 - val_accuracy: 0.6889\n",
            "Epoch 6/50\n",
            "4/4 [==============================] - 0s 10ms/step - loss: 0.7718 - accuracy: 0.6857 - val_loss: 0.7386 - val_accuracy: 0.7556\n",
            "Epoch 7/50\n",
            "4/4 [==============================] - 0s 12ms/step - loss: 0.7259 - accuracy: 0.7143 - val_loss: 0.6885 - val_accuracy: 0.7333\n",
            "Epoch 8/50\n",
            "4/4 [==============================] - 0s 10ms/step - loss: 0.6825 - accuracy: 0.7333 - val_loss: 0.6405 - val_accuracy: 0.7333\n",
            "Epoch 9/50\n",
            "4/4 [==============================] - 0s 9ms/step - loss: 0.6391 - accuracy: 0.7429 - val_loss: 0.5963 - val_accuracy: 0.7778\n",
            "Epoch 10/50\n",
            "4/4 [==============================] - 0s 10ms/step - loss: 0.6036 - accuracy: 0.7429 - val_loss: 0.5560 - val_accuracy: 0.8222\n",
            "Epoch 11/50\n",
            "4/4 [==============================] - 0s 10ms/step - loss: 0.5691 - accuracy: 0.7524 - val_loss: 0.5223 - val_accuracy: 0.8222\n",
            "Epoch 12/50\n",
            "4/4 [==============================] - 0s 10ms/step - loss: 0.5405 - accuracy: 0.7810 - val_loss: 0.4917 - val_accuracy: 0.8444\n",
            "Epoch 13/50\n",
            "4/4 [==============================] - 0s 9ms/step - loss: 0.5151 - accuracy: 0.8000 - val_loss: 0.4637 - val_accuracy: 0.8444\n",
            "Epoch 14/50\n",
            "4/4 [==============================] - 0s 9ms/step - loss: 0.4928 - accuracy: 0.8000 - val_loss: 0.4375 - val_accuracy: 0.8667\n",
            "Epoch 15/50\n",
            "4/4 [==============================] - 0s 12ms/step - loss: 0.4734 - accuracy: 0.7905 - val_loss: 0.4129 - val_accuracy: 0.8667\n",
            "Epoch 16/50\n",
            "4/4 [==============================] - 0s 10ms/step - loss: 0.4546 - accuracy: 0.8000 - val_loss: 0.3897 - val_accuracy: 0.8889\n",
            "Epoch 17/50\n",
            "4/4 [==============================] - 0s 11ms/step - loss: 0.4375 - accuracy: 0.8000 - val_loss: 0.3668 - val_accuracy: 0.9556\n",
            "Epoch 18/50\n",
            "4/4 [==============================] - 0s 10ms/step - loss: 0.4206 - accuracy: 0.8000 - val_loss: 0.3457 - val_accuracy: 0.9556\n",
            "Epoch 19/50\n",
            "4/4 [==============================] - 0s 10ms/step - loss: 0.4041 - accuracy: 0.8095 - val_loss: 0.3253 - val_accuracy: 0.9556\n",
            "Epoch 20/50\n",
            "4/4 [==============================] - 0s 11ms/step - loss: 0.3898 - accuracy: 0.8190 - val_loss: 0.3080 - val_accuracy: 0.9778\n",
            "Epoch 21/50\n",
            "4/4 [==============================] - 0s 9ms/step - loss: 0.3737 - accuracy: 0.8286 - val_loss: 0.2892 - val_accuracy: 0.9778\n",
            "Epoch 22/50\n",
            "4/4 [==============================] - 0s 10ms/step - loss: 0.3622 - accuracy: 0.8190 - val_loss: 0.2727 - val_accuracy: 0.9778\n",
            "Epoch 23/50\n",
            "4/4 [==============================] - 0s 9ms/step - loss: 0.3498 - accuracy: 0.8286 - val_loss: 0.2595 - val_accuracy: 0.9778\n",
            "Epoch 24/50\n",
            "4/4 [==============================] - 0s 15ms/step - loss: 0.3399 - accuracy: 0.8571 - val_loss: 0.2508 - val_accuracy: 0.9778\n",
            "Epoch 25/50\n",
            "4/4 [==============================] - 0s 10ms/step - loss: 0.3285 - accuracy: 0.8762 - val_loss: 0.2385 - val_accuracy: 0.9556\n",
            "Epoch 26/50\n",
            "4/4 [==============================] - 0s 10ms/step - loss: 0.3173 - accuracy: 0.8952 - val_loss: 0.2222 - val_accuracy: 0.9778\n",
            "Epoch 27/50\n",
            "4/4 [==============================] - 0s 10ms/step - loss: 0.3099 - accuracy: 0.8667 - val_loss: 0.2070 - val_accuracy: 0.9778\n",
            "Epoch 28/50\n",
            "4/4 [==============================] - 0s 10ms/step - loss: 0.2985 - accuracy: 0.8571 - val_loss: 0.1961 - val_accuracy: 0.9778\n",
            "Epoch 29/50\n",
            "4/4 [==============================] - 0s 10ms/step - loss: 0.2887 - accuracy: 0.8667 - val_loss: 0.1899 - val_accuracy: 0.9556\n",
            "Epoch 30/50\n",
            "4/4 [==============================] - 0s 10ms/step - loss: 0.2787 - accuracy: 0.9048 - val_loss: 0.1824 - val_accuracy: 0.9556\n",
            "Epoch 31/50\n",
            "4/4 [==============================] - 0s 10ms/step - loss: 0.2708 - accuracy: 0.9048 - val_loss: 0.1723 - val_accuracy: 0.9556\n",
            "Epoch 32/50\n",
            "4/4 [==============================] - 0s 10ms/step - loss: 0.2609 - accuracy: 0.9143 - val_loss: 0.1628 - val_accuracy: 0.9556\n",
            "Epoch 33/50\n",
            "4/4 [==============================] - 0s 10ms/step - loss: 0.2513 - accuracy: 0.9048 - val_loss: 0.1543 - val_accuracy: 0.9778\n",
            "Epoch 34/50\n",
            "4/4 [==============================] - 0s 12ms/step - loss: 0.2422 - accuracy: 0.9048 - val_loss: 0.1479 - val_accuracy: 0.9778\n",
            "Epoch 35/50\n",
            "4/4 [==============================] - 0s 11ms/step - loss: 0.2327 - accuracy: 0.9048 - val_loss: 0.1424 - val_accuracy: 0.9778\n",
            "Epoch 36/50\n",
            "4/4 [==============================] - 0s 10ms/step - loss: 0.2231 - accuracy: 0.9238 - val_loss: 0.1389 - val_accuracy: 0.9778\n",
            "Epoch 37/50\n",
            "4/4 [==============================] - 0s 10ms/step - loss: 0.2136 - accuracy: 0.9333 - val_loss: 0.1348 - val_accuracy: 0.9778\n",
            "Epoch 38/50\n",
            "4/4 [==============================] - 0s 11ms/step - loss: 0.2038 - accuracy: 0.9429 - val_loss: 0.1269 - val_accuracy: 0.9778\n",
            "Epoch 39/50\n",
            "4/4 [==============================] - 0s 15ms/step - loss: 0.1944 - accuracy: 0.9429 - val_loss: 0.1204 - val_accuracy: 1.0000\n",
            "Epoch 40/50\n",
            "4/4 [==============================] - 0s 10ms/step - loss: 0.1868 - accuracy: 0.9524 - val_loss: 0.1156 - val_accuracy: 0.9778\n",
            "Epoch 41/50\n",
            "4/4 [==============================] - 0s 10ms/step - loss: 0.1775 - accuracy: 0.9524 - val_loss: 0.1159 - val_accuracy: 0.9778\n",
            "Epoch 42/50\n",
            "4/4 [==============================] - 0s 9ms/step - loss: 0.1709 - accuracy: 0.9524 - val_loss: 0.1106 - val_accuracy: 0.9778\n",
            "Epoch 43/50\n",
            "4/4 [==============================] - 0s 9ms/step - loss: 0.1645 - accuracy: 0.9524 - val_loss: 0.1012 - val_accuracy: 1.0000\n",
            "Epoch 44/50\n",
            "4/4 [==============================] - 0s 10ms/step - loss: 0.1565 - accuracy: 0.9619 - val_loss: 0.0959 - val_accuracy: 1.0000\n",
            "Epoch 45/50\n",
            "4/4 [==============================] - 0s 10ms/step - loss: 0.1494 - accuracy: 0.9524 - val_loss: 0.0960 - val_accuracy: 0.9778\n",
            "Epoch 46/50\n",
            "4/4 [==============================] - 0s 10ms/step - loss: 0.1429 - accuracy: 0.9524 - val_loss: 0.0932 - val_accuracy: 0.9778\n",
            "Epoch 47/50\n",
            "4/4 [==============================] - 0s 10ms/step - loss: 0.1375 - accuracy: 0.9524 - val_loss: 0.0892 - val_accuracy: 0.9778\n",
            "Epoch 48/50\n",
            "4/4 [==============================] - 0s 10ms/step - loss: 0.1322 - accuracy: 0.9524 - val_loss: 0.0860 - val_accuracy: 0.9778\n",
            "Epoch 49/50\n",
            "4/4 [==============================] - 0s 15ms/step - loss: 0.1264 - accuracy: 0.9524 - val_loss: 0.0819 - val_accuracy: 0.9778\n",
            "Epoch 50/50\n",
            "4/4 [==============================] - 0s 10ms/step - loss: 0.1228 - accuracy: 0.9619 - val_loss: 0.0808 - val_accuracy: 0.9778\n"
          ]
        }
      ]
    },
    {
      "cell_type": "code",
      "source": [
        "plt.plot(history.history['accuracy'])\n",
        "plt.plot(history.history['val_accuracy'])\n",
        "plt.title('model accuracy')\n",
        "plt.ylabel('accuracy')\n",
        "plt.xlabel('epoch')\n",
        "plt.legend(['train', 'test'], loc='upper left')\n",
        "plt.show()\n",
        "# summarize history for loss\n",
        "plt.plot(history.history['loss'])\n",
        "plt.plot(history.history['val_loss'])\n",
        "plt.title('model loss')\n",
        "plt.ylabel('loss')\n",
        "plt.xlabel('epoch')\n",
        "plt.legend(['train', 'test'], loc='upper left')\n",
        "plt.show()"
      ],
      "metadata": {
        "id": "AIoo_oFSgMzw",
        "colab": {
          "base_uri": "https://localhost:8080/",
          "height": 573
        },
        "outputId": "1c096a9c-9ab6-403c-a56f-2ca30fd18bec"
      },
      "execution_count": 5,
      "outputs": [
        {
          "output_type": "display_data",
          "data": {
            "text/plain": [
              "<Figure size 432x288 with 1 Axes>"
            ],
            "image/png": "[encoded data removed]"
          },
          "metadata": {
            "needs_background": "light"
          }
        },
        {
          "output_type": "display_data",
          "data": {
            "text/plain": [
              "<Figure size 432x288 with 1 Axes>"
            ],
            "image/png": "[encoded data removed]"
          },
          "metadata": {
            "needs_background": "light"
          }
        }
      ]
    },
    {
      "cell_type": "markdown",
      "source": [
        "# MNIST DATASET\n",
        "**Convulutional neural network**"
      ],
      "metadata": {
        "id": "B9RRm3B7bMwS"
      }
    },
    {
      "cell_type": "code",
      "source": [
        "(x_train, y_train), (x_test, y_test) = keras.datasets.mnist.load_data()\n",
        "x_train = x_train.astype(\"float32\") / 255 #normalize the pixels' values to 0-1 range\n",
        "x_test = x_test.astype(\"float32\") / 255\n",
        "x_train = np.expand_dims(x_train, -1) #The input shape for Conv2D is (H,W,1) or (H,W,N) in general N=3\n",
        "x_test = np.expand_dims(x_test, -1)\n",
        "print(x_train.shape)\n",
        "y_train = to_categorical(y_train, 10) #We change our labels to One hot encoding format with 10 classes (10 digits 0-9)\n",
        "y_test = to_categorical(y_test, 10)"
      ],
      "metadata": {
        "colab": {
          "base_uri": "https://localhost:8080/"
        },
        "id": "VZwFfpbYV_hJ",
        "outputId": "88903a0a-5845-4c25-8a2d-1bb67406fb19"
      },
      "execution_count": 6,
      "outputs": [
        {
          "output_type": "stream",
          "name": "stdout",
          "text": [
            "(60000, 28, 28, 1)\n"
          ]
        }
      ]
    },
    {
      "cell_type": "code",
      "source": [
        "model = Sequential()\n",
        "model.add(Conv2D(32, kernel_size=(3, 3), input_shape=(28,28,1),activation=\"relu\"))\n",
        "model.add(MaxPooling2D(pool_size=(2, 2))) #Maxpooling down samples the received input by a factor of two while selecting the pixels with the maximum values in each patch.\n",
        "model.add(Conv2D(64, kernel_size=(3, 3), activation=\"relu\"))\n",
        "model.add(MaxPooling2D(pool_size=(2, 2)))\n",
        "model.add(Flatten())\n",
        "model.add(Dropout(0.5))\n",
        "model.add(Dense(10, activation=\"softmax\"))\n",
        "model.summary()\n",
        "e_s = EarlyStopping(min_delta = 0.0005, patience = 2)\n",
        "\n",
        "model.compile(loss=\"categorical_crossentropy\", optimizer=\"adam\", metrics=[\"accuracy\"])\n",
        "history = model.fit(x_train, y_train, batch_size=128, epochs=30, callbacks=[e_s],validation_split=0.1)"
      ],
      "metadata": {
        "colab": {
          "base_uri": "https://localhost:8080/"
        },
        "id": "UKxh8BR-WXmF",
        "outputId": "10c58c29-1aca-43f9-c106-451e0dcc162f"
      },
      "execution_count": 7,
      "outputs": [
        {
          "output_type": "stream",
          "name": "stdout",
          "text": [
            "Model: \"sequential_1\"\n",
            "_________________________________________________________________\n",
            " Layer (type)                Output Shape              Param #   \n",
            "=================================================================\n",
            " conv2d (Conv2D)             (None, 26, 26, 32)        320       \n",
            "                                                                 \n",
            " max_pooling2d (MaxPooling2D  (None, 13, 13, 32)       0         \n",
            " )                                                               \n",
            "                                                                 \n",
            " conv2d_1 (Conv2D)           (None, 11, 11, 64)        18496     \n",
            "                                                                 \n",
            " max_pooling2d_1 (MaxPooling  (None, 5, 5, 64)         0         \n",
            " 2D)                                                             \n",
            "                                                                 \n",
            " flatten (Flatten)           (None, 1600)              0         \n",
            "                                                                 \n",
            " dropout (Dropout)           (None, 1600)              0         \n",
            "                                                                 \n",
            " dense_8 (Dense)             (None, 10)                16010     \n",
            "                                                                 \n",
            "=================================================================\n",
            "Total params: 34,826\n",
            "Trainable params: 34,826\n",
            "Non-trainable params: 0\n",
            "_________________________________________________________________\n",
            "Epoch 1/30\n",
            "422/422 [==============================] - 8s 10ms/step - loss: 0.3709 - accuracy: 0.8847 - val_loss: 0.0829 - val_accuracy: 0.9783\n",
            "Epoch 2/30\n",
            "422/422 [==============================] - 4s 9ms/step - loss: 0.1154 - accuracy: 0.9647 - val_loss: 0.0578 - val_accuracy: 0.9858\n",
            "Epoch 3/30\n",
            "422/422 [==============================] - 4s 9ms/step - loss: 0.0853 - accuracy: 0.9734 - val_loss: 0.0488 - val_accuracy: 0.9865\n",
            "Epoch 4/30\n",
            "422/422 [==============================] - 4s 8ms/step - loss: 0.0710 - accuracy: 0.9784 - val_loss: 0.0456 - val_accuracy: 0.9872\n",
            "Epoch 5/30\n",
            "422/422 [==============================] - 3s 7ms/step - loss: 0.0626 - accuracy: 0.9808 - val_loss: 0.0386 - val_accuracy: 0.9878\n",
            "Epoch 6/30\n",
            "422/422 [==============================] - 2s 5ms/step - loss: 0.0582 - accuracy: 0.9813 - val_loss: 0.0411 - val_accuracy: 0.9870\n",
            "Epoch 7/30\n",
            "422/422 [==============================] - 2s 5ms/step - loss: 0.0524 - accuracy: 0.9836 - val_loss: 0.0358 - val_accuracy: 0.9882\n",
            "Epoch 8/30\n",
            "422/422 [==============================] - 2s 5ms/step - loss: 0.0490 - accuracy: 0.9847 - val_loss: 0.0331 - val_accuracy: 0.9913\n",
            "Epoch 9/30\n",
            "422/422 [==============================] - 2s 5ms/step - loss: 0.0443 - accuracy: 0.9863 - val_loss: 0.0307 - val_accuracy: 0.9920\n",
            "Epoch 10/30\n",
            "422/422 [==============================] - 2s 5ms/step - loss: 0.0412 - accuracy: 0.9871 - val_loss: 0.0295 - val_accuracy: 0.9912\n",
            "Epoch 11/30\n",
            "422/422 [==============================] - 2s 5ms/step - loss: 0.0408 - accuracy: 0.9871 - val_loss: 0.0278 - val_accuracy: 0.9922\n",
            "Epoch 12/30\n",
            "422/422 [==============================] - 2s 5ms/step - loss: 0.0380 - accuracy: 0.9880 - val_loss: 0.0289 - val_accuracy: 0.9915\n",
            "Epoch 13/30\n",
            "422/422 [==============================] - 2s 5ms/step - loss: 0.0358 - accuracy: 0.9888 - val_loss: 0.0285 - val_accuracy: 0.9925\n"
          ]
        }
      ]
    },
    {
      "cell_type": "code",
      "source": [
        "plt.plot(history.history['accuracy'])\n",
        "plt.plot(history.history['val_accuracy'])\n",
        "plt.title('model accuracy')\n",
        "plt.ylabel('accuracy')\n",
        "plt.xlabel('epoch')\n",
        "plt.legend(['train', 'test'], loc='upper left')\n",
        "plt.show()\n",
        "# summarize history for loss\n",
        "plt.plot(history.history['loss'])\n",
        "plt.plot(history.history['val_loss'])\n",
        "plt.title('model loss')\n",
        "plt.ylabel('loss')\n",
        "plt.xlabel('epoch')\n",
        "plt.legend(['train', 'test'], loc='upper left')\n",
        "plt.show()"
      ],
      "metadata": {
        "colab": {
          "base_uri": "https://localhost:8080/",
          "height": 573
        },
        "id": "uOPMvKFeXZlE",
        "outputId": "8e668323-3f2a-4831-d9d7-191556c3b33d"
      },
      "execution_count": 8,
      "outputs": [
        {
          "output_type": "display_data",
          "data": {
            "text/plain": [
              "<Figure size 432x288 with 1 Axes>"
            ],
            "image/png": "[encoded data removed]"
          },
          "metadata": {
            "needs_background": "light"
          }
        },
        {
          "output_type": "display_data",
          "data": {
            "text/plain": [
              "<Figure size 432x288 with 1 Axes>"
            ],
            "image/png": "[encoded data removed]"
          },
          "metadata": {
            "needs_background": "light"
          }
        }
      ]
    },
    {
      "cell_type": "code",
      "source": [
        "performance = model.evaluate(x_test,y_test)\n",
        "print(\"The test loss is %.2f\" % performance[0])\n",
        "print(\"The test accuracy is %.2f\" % (performance[1]*100) + \"%\")"
      ],
      "metadata": {
        "colab": {
          "base_uri": "https://localhost:8080/"
        },
        "id": "MHodlnXIZnvO",
        "outputId": "8b72ba8f-ab7e-4d9a-dc0b-0c4a1e25b404"
      },
      "execution_count": 9,
      "outputs": [
        {
          "output_type": "stream",
          "name": "stdout",
          "text": [
            "313/313 [==============================] - 1s 3ms/step - loss: 0.0262 - accuracy: 0.9908\n",
            "The test loss is 0.03\n",
            "The test accuracy is 99.08%\n"
          ]
        }
      ]
    },
    {
      "cell_type": "code",
      "source": [
        ""
      ],
      "metadata": {
        "id": "9M79A4ihdJGG"
      },
      "execution_count": 9,
      "outputs": []
    }
  ]
}