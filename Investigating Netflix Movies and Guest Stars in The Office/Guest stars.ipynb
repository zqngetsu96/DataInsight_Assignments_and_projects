{
 "cells": [
  {
   "cell_type": "markdown",
   "id": "b510f5d8",
   "metadata": {
    "dc": {
     "key": "4"
    },
    "deletable": false,
    "editable": false,
    "run_control": {
     "frozen": true
    },
    "tags": [
     "context"
    ]
   },
   "source": [
    "## 1. Welcome!\n",
    "<p><img src=\"https://assets.datacamp.com/production/project_1170/img/office_cast.jpeg\" alt=\"Markdown\">.</p>\n",
    "<p><strong>The Office!</strong> What started as a British mockumentary series about office culture in 2001 has since spawned ten other variants across the world, including an Israeli version (2010-13), a Hindi version (2019-), and even a French Canadian variant (2006-2007). Of all these iterations (including the original), the American series has been the longest-running, spanning 201 episodes over nine seasons.</p>\n",
    "<p>In this notebook, we will take a look at a dataset of The Office episodes, and try to understand how the popularity and quality of the series varied over time. To do so, we will use the following dataset: <code>datasets/office_episodes.csv</code>, which was downloaded from Kaggle <a href=\"https://www.kaggle.com/nehaprabhavalkar/the-office-dataset\">here</a>.</p>\n",
    "<p>This dataset contains information on a variety of characteristics of each episode. In detail, these are:\n",
    "<br></p>\n",
    "<div style=\"background-color: #efebe4; color: #05192d; text-align:left; vertical-align: middle; padding: 15px 25px 15px 25px; line-height: 1.6;\">\n",
    "    <div style=\"font-size:20px\"><b>datasets/office_episodes.csv</b></div>\n",
    "<ul>\n",
    "    <li><b>episode_number:</b> Canonical episode number.</li>\n",
    "    <li><b>season:</b> Season in which the episode appeared.</li>\n",
    "    <li><b>episode_title:</b> Title of the episode.</li>\n",
    "    <li><b>description:</b> Description of the episode.</li>\n",
    "    <li><b>ratings:</b> Average IMDB rating.</li>\n",
    "    <li><b>votes:</b> Number of votes.</li>\n",
    "    <li><b>viewership_mil:</b> Number of US viewers in millions.</li>\n",
    "    <li><b>duration:</b> Duration in number of minutes.</li>\n",
    "    <li><b>release_date:</b> Airdate.</li>\n",
    "    <li><b>guest_stars:</b> Guest stars in the episode (if any).</li>\n",
    "    <li><b>director:</b> Director of the episode.</li>\n",
    "    <li><b>writers:</b> Writers of the episode.</li>\n",
    "    <li><b>has_guests:</b> True/False column for whether the episode contained guest stars.</li>\n",
    "    <li><b>scaled_ratings:</b> The ratings scaled from 0 (worst-reviewed) to 1 (best-reviewed).</li>\n",
    "</ul>\n",
    "    </div>"
   ]
  },
  {
   "cell_type": "code",
   "execution_count": 1,
   "id": "84942511",
   "metadata": {
    "dc": {
     "key": "4"
    },
    "tags": [
     "sample_code"
    ]
   },
   "outputs": [],
   "source": [
    "# Use this cell to begin your analysis, and add as many as you would like!\n",
    "import pandas as pd\n",
    "import matplotlib.pyplot as plt\n",
    "plt.rcParams['figure.figsize'] = [11, 7]\n",
    "\n",
    "data = pd.read_csv('datasets/office_episodes.csv')"
   ]
  },
  {
   "cell_type": "code",
   "execution_count": 2,
   "id": "e2d419c6",
   "metadata": {
    "dc": {
     "key": "4"
    },
    "scrolled": true
   },
   "outputs": [
    {
     "data": {
      "text/html": [
       "<div>\n",
       "<style scoped>\n",
       "    .dataframe tbody tr th:only-of-type {\n",
       "        vertical-align: middle;\n",
       "    }\n",
       "\n",
       "    .dataframe tbody tr th {\n",
       "        vertical-align: top;\n",
       "    }\n",
       "\n",
       "    .dataframe thead th {\n",
       "        text-align: right;\n",
       "    }\n",
       "</style>\n",
       "<table border=\"1\" class=\"dataframe\">\n",
       "  <thead>\n",
       "    <tr style=\"text-align: right;\">\n",
       "      <th></th>\n",
       "      <th>episode_number</th>\n",
       "      <th>season</th>\n",
       "      <th>episode_title</th>\n",
       "      <th>description</th>\n",
       "      <th>ratings</th>\n",
       "      <th>votes</th>\n",
       "      <th>viewership_mil</th>\n",
       "      <th>duration</th>\n",
       "      <th>release_date</th>\n",
       "      <th>guest_stars</th>\n",
       "      <th>director</th>\n",
       "      <th>writers</th>\n",
       "      <th>has_guests</th>\n",
       "      <th>scaled_ratings</th>\n",
       "    </tr>\n",
       "  </thead>\n",
       "  <tbody>\n",
       "    <tr>\n",
       "      <th>0</th>\n",
       "      <td>0</td>\n",
       "      <td>1</td>\n",
       "      <td>Pilot</td>\n",
       "      <td>The premiere episode introduces the boss and s...</td>\n",
       "      <td>7.5</td>\n",
       "      <td>4936</td>\n",
       "      <td>11.2</td>\n",
       "      <td>23</td>\n",
       "      <td>2005-03-24</td>\n",
       "      <td>NaN</td>\n",
       "      <td>Ken Kwapis</td>\n",
       "      <td>Ricky Gervais |Stephen Merchant and Greg Daniels</td>\n",
       "      <td>False</td>\n",
       "      <td>0.28125</td>\n",
       "    </tr>\n",
       "    <tr>\n",
       "      <th>1</th>\n",
       "      <td>1</td>\n",
       "      <td>1</td>\n",
       "      <td>Diversity Day</td>\n",
       "      <td>Michael's off color remark puts a sensitivity ...</td>\n",
       "      <td>8.3</td>\n",
       "      <td>4801</td>\n",
       "      <td>6.0</td>\n",
       "      <td>23</td>\n",
       "      <td>2005-03-29</td>\n",
       "      <td>NaN</td>\n",
       "      <td>Ken Kwapis</td>\n",
       "      <td>B. J. Novak</td>\n",
       "      <td>False</td>\n",
       "      <td>0.53125</td>\n",
       "    </tr>\n",
       "    <tr>\n",
       "      <th>2</th>\n",
       "      <td>2</td>\n",
       "      <td>1</td>\n",
       "      <td>Health Care</td>\n",
       "      <td>Michael leaves Dwight in charge of picking the...</td>\n",
       "      <td>7.8</td>\n",
       "      <td>4024</td>\n",
       "      <td>5.8</td>\n",
       "      <td>22</td>\n",
       "      <td>2005-04-05</td>\n",
       "      <td>NaN</td>\n",
       "      <td>Ken Whittingham</td>\n",
       "      <td>Paul Lieberstein</td>\n",
       "      <td>False</td>\n",
       "      <td>0.37500</td>\n",
       "    </tr>\n",
       "    <tr>\n",
       "      <th>3</th>\n",
       "      <td>3</td>\n",
       "      <td>1</td>\n",
       "      <td>The Alliance</td>\n",
       "      <td>Just for a laugh, Jim agrees to an alliance wi...</td>\n",
       "      <td>8.1</td>\n",
       "      <td>3915</td>\n",
       "      <td>5.4</td>\n",
       "      <td>23</td>\n",
       "      <td>2005-04-12</td>\n",
       "      <td>NaN</td>\n",
       "      <td>Bryan Gordon</td>\n",
       "      <td>Michael Schur</td>\n",
       "      <td>False</td>\n",
       "      <td>0.46875</td>\n",
       "    </tr>\n",
       "    <tr>\n",
       "      <th>4</th>\n",
       "      <td>4</td>\n",
       "      <td>1</td>\n",
       "      <td>Basketball</td>\n",
       "      <td>Michael and his staff challenge the warehouse ...</td>\n",
       "      <td>8.4</td>\n",
       "      <td>4294</td>\n",
       "      <td>5.0</td>\n",
       "      <td>23</td>\n",
       "      <td>2005-04-19</td>\n",
       "      <td>NaN</td>\n",
       "      <td>Greg Daniels</td>\n",
       "      <td>Greg Daniels</td>\n",
       "      <td>False</td>\n",
       "      <td>0.56250</td>\n",
       "    </tr>\n",
       "  </tbody>\n",
       "</table>\n",
       "</div>"
      ],
      "text/plain": [
       "   episode_number  season  episode_title  \\\n",
       "0               0       1          Pilot   \n",
       "1               1       1  Diversity Day   \n",
       "2               2       1    Health Care   \n",
       "3               3       1   The Alliance   \n",
       "4               4       1     Basketball   \n",
       "\n",
       "                                         description  ratings  votes  \\\n",
       "0  The premiere episode introduces the boss and s...      7.5   4936   \n",
       "1  Michael's off color remark puts a sensitivity ...      8.3   4801   \n",
       "2  Michael leaves Dwight in charge of picking the...      7.8   4024   \n",
       "3  Just for a laugh, Jim agrees to an alliance wi...      8.1   3915   \n",
       "4  Michael and his staff challenge the warehouse ...      8.4   4294   \n",
       "\n",
       "   viewership_mil  duration release_date guest_stars         director  \\\n",
       "0            11.2        23   2005-03-24         NaN       Ken Kwapis   \n",
       "1             6.0        23   2005-03-29         NaN       Ken Kwapis   \n",
       "2             5.8        22   2005-04-05         NaN  Ken Whittingham   \n",
       "3             5.4        23   2005-04-12         NaN     Bryan Gordon   \n",
       "4             5.0        23   2005-04-19         NaN     Greg Daniels   \n",
       "\n",
       "                                            writers  has_guests  \\\n",
       "0  Ricky Gervais |Stephen Merchant and Greg Daniels       False   \n",
       "1                                       B. J. Novak       False   \n",
       "2                                  Paul Lieberstein       False   \n",
       "3                                     Michael Schur       False   \n",
       "4                                      Greg Daniels       False   \n",
       "\n",
       "   scaled_ratings  \n",
       "0         0.28125  \n",
       "1         0.53125  \n",
       "2         0.37500  \n",
       "3         0.46875  \n",
       "4         0.56250  "
      ]
     },
     "execution_count": 2,
     "metadata": {},
     "output_type": "execute_result"
    }
   ],
   "source": [
    "data.head()"
   ]
  },
  {
   "cell_type": "code",
   "execution_count": 3,
   "id": "da6c2391-bae8-47d7-b79e-394519361881",
   "metadata": {},
   "outputs": [
    {
     "data": {
      "text/plain": [
       "[<matplotlib.lines.Line2D at 0x7fac949ba1c0>]"
      ]
     },
     "execution_count": 3,
     "metadata": {},
     "output_type": "execute_result"
    },
    {
     "data": {
      "image/png": "[encoded data removed]",
      "text/plain": [
       "<Figure size 792x504 with 1 Axes>"
      ]
     },
     "metadata": {
      "needs_background": "light"
     },
     "output_type": "display_data"
    }
   ],
   "source": [
    "fig = plt.figure()\n",
    "\n",
    "plt.title(\"Popularity\")\n",
    "\n",
    "plt.xlabel('Episode Number')\n",
    "plt.ylabel('Viewership (Millions)')\n",
    "\n",
    "plt.plot(data['episode_number'], data['viewership_mil'])"
   ]
  },
  {
   "cell_type": "code",
   "execution_count": 4,
   "id": "38f8d18e",
   "metadata": {
    "dc": {
     "key": "4"
    },
    "tags": []
   },
   "outputs": [],
   "source": [
    "colors = []\n",
    "st = 'scaled_ratings'\n",
    "for i,r in data.iterrows():\n",
    "    if r[st] < 0.25:\n",
    "        colors.append(\"red\")\n",
    "    elif r[st] >= 0.25 and r[st] < 0.50:\n",
    "        colors.append(\"orange\")\n",
    "    elif r[st] >= 0.50 and r[st] < 0.75:\n",
    "        colors.append(\"lightgreen\")\n",
    "    else:\n",
    "        colors.append(\"darkgreen\")\n",
    "\n",
    "\n",
    "sizes = []\n",
    "\n",
    "for i,r in data.iterrows():\n",
    "    if r['has_guests'] == True:\n",
    "        sizes.append(250)\n",
    "    else:\n",
    "        sizes.append(25)"
   ]
  },
  {
   "cell_type": "code",
   "execution_count": 5,
   "id": "3df0d7fc",
   "metadata": {
    "dc": {
     "key": "4"
    }
   },
   "outputs": [],
   "source": [
    "d = data.sort_values(by='viewership_mil',ascending=False)"
   ]
  },
  {
   "cell_type": "code",
   "execution_count": 6,
   "id": "212e058e",
   "metadata": {
    "dc": {
     "key": "4"
    }
   },
   "outputs": [
    {
     "data": {
      "text/html": [
       "<div>\n",
       "<style scoped>\n",
       "    .dataframe tbody tr th:only-of-type {\n",
       "        vertical-align: middle;\n",
       "    }\n",
       "\n",
       "    .dataframe tbody tr th {\n",
       "        vertical-align: top;\n",
       "    }\n",
       "\n",
       "    .dataframe thead th {\n",
       "        text-align: right;\n",
       "    }\n",
       "</style>\n",
       "<table border=\"1\" class=\"dataframe\">\n",
       "  <thead>\n",
       "    <tr style=\"text-align: right;\">\n",
       "      <th></th>\n",
       "      <th>episode_number</th>\n",
       "      <th>season</th>\n",
       "      <th>episode_title</th>\n",
       "      <th>description</th>\n",
       "      <th>ratings</th>\n",
       "      <th>votes</th>\n",
       "      <th>viewership_mil</th>\n",
       "      <th>duration</th>\n",
       "      <th>release_date</th>\n",
       "      <th>guest_stars</th>\n",
       "      <th>director</th>\n",
       "      <th>writers</th>\n",
       "      <th>has_guests</th>\n",
       "      <th>scaled_ratings</th>\n",
       "    </tr>\n",
       "  </thead>\n",
       "  <tbody>\n",
       "    <tr>\n",
       "      <th>77</th>\n",
       "      <td>77</td>\n",
       "      <td>5</td>\n",
       "      <td>Stress Relief</td>\n",
       "      <td>Dwight's too-realistic fire alarm gives Stanle...</td>\n",
       "      <td>9.7</td>\n",
       "      <td>8170</td>\n",
       "      <td>22.91</td>\n",
       "      <td>60</td>\n",
       "      <td>2009-02-01</td>\n",
       "      <td>Cloris Leachman, Jack Black, Jessica Alba</td>\n",
       "      <td>Jeffrey Blitz</td>\n",
       "      <td>Paul Lieberstein</td>\n",
       "      <td>True</td>\n",
       "      <td>0.96875</td>\n",
       "    </tr>\n",
       "    <tr>\n",
       "      <th>0</th>\n",
       "      <td>0</td>\n",
       "      <td>1</td>\n",
       "      <td>Pilot</td>\n",
       "      <td>The premiere episode introduces the boss and s...</td>\n",
       "      <td>7.5</td>\n",
       "      <td>4936</td>\n",
       "      <td>11.20</td>\n",
       "      <td>23</td>\n",
       "      <td>2005-03-24</td>\n",
       "      <td>NaN</td>\n",
       "      <td>Ken Kwapis</td>\n",
       "      <td>Ricky Gervais |Stephen Merchant and Greg Daniels</td>\n",
       "      <td>False</td>\n",
       "      <td>0.28125</td>\n",
       "    </tr>\n",
       "    <tr>\n",
       "      <th>17</th>\n",
       "      <td>17</td>\n",
       "      <td>2</td>\n",
       "      <td>The Injury</td>\n",
       "      <td>Michael's \"injury\" from a George Foreman Grill...</td>\n",
       "      <td>9.1</td>\n",
       "      <td>4314</td>\n",
       "      <td>10.30</td>\n",
       "      <td>22</td>\n",
       "      <td>2006-01-12</td>\n",
       "      <td>NaN</td>\n",
       "      <td>Bryan Gordon</td>\n",
       "      <td>Mindy Kaling</td>\n",
       "      <td>False</td>\n",
       "      <td>0.78125</td>\n",
       "    </tr>\n",
       "    <tr>\n",
       "      <th>40</th>\n",
       "      <td>40</td>\n",
       "      <td>3</td>\n",
       "      <td>The Return</td>\n",
       "      <td>Andy does the impossible--he makes everyone in...</td>\n",
       "      <td>8.8</td>\n",
       "      <td>3211</td>\n",
       "      <td>10.20</td>\n",
       "      <td>28</td>\n",
       "      <td>2007-01-18</td>\n",
       "      <td>NaN</td>\n",
       "      <td>Greg Daniels</td>\n",
       "      <td>Lee Eisenberg | Gene Stupnitsky | Michael Schur</td>\n",
       "      <td>False</td>\n",
       "      <td>0.68750</td>\n",
       "    </tr>\n",
       "    <tr>\n",
       "      <th>39</th>\n",
       "      <td>39</td>\n",
       "      <td>3</td>\n",
       "      <td>Traveling Salesmen</td>\n",
       "      <td>Dwight does a favor for Angela to keep her fro...</td>\n",
       "      <td>8.6</td>\n",
       "      <td>3053</td>\n",
       "      <td>10.12</td>\n",
       "      <td>22</td>\n",
       "      <td>2007-01-11</td>\n",
       "      <td>NaN</td>\n",
       "      <td>Greg Daniels</td>\n",
       "      <td>Michael Schur | Lee Eisenberg | Gene Stupnitsky</td>\n",
       "      <td>False</td>\n",
       "      <td>0.62500</td>\n",
       "    </tr>\n",
       "  </tbody>\n",
       "</table>\n",
       "</div>"
      ],
      "text/plain": [
       "    episode_number  season       episode_title  \\\n",
       "77              77       5       Stress Relief   \n",
       "0                0       1               Pilot   \n",
       "17              17       2          The Injury   \n",
       "40              40       3          The Return   \n",
       "39              39       3  Traveling Salesmen   \n",
       "\n",
       "                                          description  ratings  votes  \\\n",
       "77  Dwight's too-realistic fire alarm gives Stanle...      9.7   8170   \n",
       "0   The premiere episode introduces the boss and s...      7.5   4936   \n",
       "17  Michael's \"injury\" from a George Foreman Grill...      9.1   4314   \n",
       "40  Andy does the impossible--he makes everyone in...      8.8   3211   \n",
       "39  Dwight does a favor for Angela to keep her fro...      8.6   3053   \n",
       "\n",
       "    viewership_mil  duration release_date  \\\n",
       "77           22.91        60   2009-02-01   \n",
       "0            11.20        23   2005-03-24   \n",
       "17           10.30        22   2006-01-12   \n",
       "40           10.20        28   2007-01-18   \n",
       "39           10.12        22   2007-01-11   \n",
       "\n",
       "                                  guest_stars       director  \\\n",
       "77  Cloris Leachman, Jack Black, Jessica Alba  Jeffrey Blitz   \n",
       "0                                         NaN     Ken Kwapis   \n",
       "17                                        NaN   Bryan Gordon   \n",
       "40                                        NaN   Greg Daniels   \n",
       "39                                        NaN   Greg Daniels   \n",
       "\n",
       "                                             writers  has_guests  \\\n",
       "77                                  Paul Lieberstein        True   \n",
       "0   Ricky Gervais |Stephen Merchant and Greg Daniels       False   \n",
       "17                                      Mindy Kaling       False   \n",
       "40   Lee Eisenberg | Gene Stupnitsky | Michael Schur       False   \n",
       "39   Michael Schur | Lee Eisenberg | Gene Stupnitsky       False   \n",
       "\n",
       "    scaled_ratings  \n",
       "77         0.96875  \n",
       "0          0.28125  \n",
       "17         0.78125  \n",
       "40         0.68750  \n",
       "39         0.62500  "
      ]
     },
     "execution_count": 6,
     "metadata": {},
     "output_type": "execute_result"
    }
   ],
   "source": [
    "d.head()"
   ]
  },
  {
   "cell_type": "code",
   "execution_count": 7,
   "id": "fedde88f",
   "metadata": {
    "dc": {
     "key": "4"
    },
    "tags": []
   },
   "outputs": [],
   "source": [
    "top_star = ''\n",
    "for i,r in d.iterrows():\n",
    "    if r['has_guests'] == True:\n",
    "        top_star = r['guest_stars'].split(',')[0]\n",
    "        break"
   ]
  },
  {
   "cell_type": "code",
   "execution_count": 8,
   "id": "dee58d70",
   "metadata": {
    "dc": {
     "key": "4"
    }
   },
   "outputs": [
    {
     "name": "stdout",
     "output_type": "stream",
     "text": [
      "Cloris Leachman\n"
     ]
    }
   ],
   "source": [
    "print(top_star)"
   ]
  },
  {
   "cell_type": "code",
   "execution_count": 9,
   "id": "54f46051",
   "metadata": {
    "dc": {
     "key": "4"
    }
   },
   "outputs": [
    {
     "data": {
      "text/plain": [
       "<matplotlib.collections.PathCollection at 0x7fac947a5580>"
      ]
     },
     "execution_count": 9,
     "metadata": {},
     "output_type": "execute_result"
    },
    {
     "data": {
      "image/png": "[encoded data removed]",
      "text/plain": [
       "<Figure size 792x504 with 1 Axes>"
      ]
     },
     "metadata": {
      "needs_background": "light"
     },
     "output_type": "display_data"
    }
   ],
   "source": [
    "fig = plt.figure()\n",
    "\n",
    "plt.title(\"Popularity, Quality, and Guest Appearances on the Office\")\n",
    "\n",
    "plt.xlabel('Episode Number')\n",
    "plt.ylabel('Viewership (Millions)')\n",
    "\n",
    "plt.scatter(x=data['episode_number'],y= data['viewership_mil'],c=colors,s=sizes)"
   ]
  },
  {
   "cell_type": "code",
   "execution_count": 10,
   "id": "4abc15d2",
   "metadata": {
    "dc": {
     "key": "4"
    },
    "tags": []
   },
   "outputs": [
    {
     "name": "stdout",
     "output_type": "stream",
     "text": [
      "['Cloris Leachman', ' Jack Black', ' Jessica Alba']\n"
     ]
    }
   ],
   "source": [
    "for i,r in d.iterrows():\n",
    "    if r['has_guests'] == True:\n",
    "        print(r['guest_stars'].split(','))\n",
    "        break"
   ]
  },
  {
   "cell_type": "code",
   "execution_count": null,
   "id": "2a65d3da-1b78-458c-b245-6cf8defabf56",
   "metadata": {},
   "outputs": [],
   "source": []
  }
 ],
 "metadata": {
  "kernelspec": {
   "display_name": "Python 3 (ipykernel)",
   "language": "python",
   "name": "python3"
  },
  "language_info": {
   "codemirror_mode": {
    "name": "ipython",
    "version": 3
   },
   "file_extension": ".py",
   "mimetype": "text/x-python",
   "name": "python",
   "nbconvert_exporter": "python",
   "pygments_lexer": "ipython3",
   "version": "3.8.10"
  }
 },
 "nbformat": 4,
 "nbformat_minor": 5
}
