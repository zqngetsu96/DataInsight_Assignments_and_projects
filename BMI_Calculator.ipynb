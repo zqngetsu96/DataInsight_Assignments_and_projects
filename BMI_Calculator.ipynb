{
 "cells": [
  {
   "cell_type": "code",
   "execution_count": 1,
   "id": "665093f2",
   "metadata": {},
   "outputs": [],
   "source": [
    "import numpy as np\n",
    "import matplotlib.pyplot as plt"
   ]
  },
  {
   "cell_type": "code",
   "execution_count": 2,
   "id": "4e6cfe4c",
   "metadata": {},
   "outputs": [
    {
     "name": "stdout",
     "output_type": "stream",
     "text": [
      "Welcome to your Body Mass Index calculation app\n",
      "Would you prefer the Metric system [m](meters and Kg) or the Imperial system [i] (lb and ft'in) [m]/i\n",
      "i\n",
      "You have chosen the Imperial system\n"
     ]
    }
   ],
   "source": [
    "print('Welcome to your Body Mass Index calculation app')\n",
    "i_m = True #Imperial or metric system use'\n",
    "metric = input('Would you prefer the Metric system [m](meters and Kg) or the Imperial system [i] (lb and ft\\'in) [m]/i\\n')\n",
    "if len(metric) == 0:\n",
    "    metric = 'm'\n",
    "if metric == 'm':\n",
    "    print('You have chosen the metric system')\n",
    "    i_m = True\n",
    "else:\n",
    "    print('You have chosen the Imperial system')\n",
    "    i_m = False"
   ]
  },
  {
   "cell_type": "code",
   "execution_count": 3,
   "id": "aa25fec8",
   "metadata": {},
   "outputs": [],
   "source": [
    "def calculate_bmi(h_m,w_kg):\n",
    "    return w_kg / h_m ** 2"
   ]
  },
  {
   "cell_type": "code",
   "execution_count": 4,
   "id": "7e36eade",
   "metadata": {},
   "outputs": [
    {
     "name": "stdout",
     "output_type": "stream",
     "text": [
      "Please provide your height (ft.in )\n",
      "6.3\n",
      "Okay, your height 6ft'3in has been saved\n",
      "Please provide your weight (in lb)\n",
      "175\n",
      "Okay, your height 175.00 Pounds has been saved\n"
     ]
    }
   ],
   "source": [
    "weight = None\n",
    "height = None\n",
    "\n",
    "if i_m == True:\n",
    "    correct_input = False\n",
    "    while(correct_input == False):\n",
    "        try:\n",
    "            height = float(input('Please provide your height (in meters)\\n'))\n",
    "            print('Okay, your height {:.2f} meters has been saved'.format(height))\n",
    "            correct_input = True\n",
    "        except:\n",
    "            print('Make sure your height is number (Example: 1.5)')\n",
    "    correct_input = False\n",
    "    while(correct_input == False):\n",
    "        try:\n",
    "            weight = float(input('Please provide your weight (in Kg)\\n'))\n",
    "            print('Okay, your height {:.2f} kg has been saved'.format(weight))\n",
    "            correct_input = True\n",
    "        except:\n",
    "            print('Make sure your height is number (Example: 72.3)')\n",
    "else:\n",
    "    correct_input = False\n",
    "    while(correct_input == False):\n",
    "        try:\n",
    "            height = input('Please provide your height (ft.in )\\n')\n",
    "            ft = int(height.split('.')[0])\n",
    "            i = int(height.split('.')[1])\n",
    "            print('Okay, your height {}ft\\'{}in has been saved'.format(ft,i))\n",
    "            height = ft * 0.3048 + i * 0.0254\n",
    "            correct_input = True\n",
    "        except:\n",
    "            print('Make sure your height is number (Example: 1.5)')\n",
    "    correct_input = False\n",
    "    while(correct_input == False):\n",
    "        try:\n",
    "            weight = float(input('Please provide your weight (in lb)\\n'))\n",
    "            print('Okay, your height {:.2f} Pounds has been saved'.format(weight))\n",
    "            weight /= 2.205\n",
    "            correct_input = True\n",
    "        except:\n",
    "            print('Make sure your height is number (Example: 155.2)')    \n",
    "                  \n",
    "    "
   ]
  },
  {
   "cell_type": "code",
   "execution_count": 5,
   "id": "a165fbf2",
   "metadata": {},
   "outputs": [
    {
     "name": "stdout",
     "output_type": "stream",
     "text": [
      "Your BMI is 21.87\n"
     ]
    }
   ],
   "source": [
    "BMI = calculate_bmi(height,weight)\n",
    "print('Your BMI is {:.2f}'.format(BMI))"
   ]
  },
  {
   "cell_type": "code",
   "execution_count": 6,
   "id": "ebfbb9bd",
   "metadata": {},
   "outputs": [
    {
     "name": "stdout",
     "output_type": "stream",
     "text": [
      "Your Body Mass Index is 21.87 which is in the healthiest range.\n"
     ]
    }
   ],
   "source": [
    "if BMI < 18.5:\n",
    "    print('Your Body Mass Index is {:.2f} which means you are underweight.'.format(BMI))\n",
    "elif 18.5 <= BMI <= 24.9:\n",
    "    print('Your Body Mass Index is {:.2f} which is in the healthiest range.'.format(BMI))\n",
    "elif 25 <= BMI <= 29.9:\n",
    "    print('Your Body Mass Index is {:.2f} this falls under the overweight range.'.format(BMI))\n",
    "else:\n",
    "    print('Your Body Mass Index is {:.2f} this falls under the obese category.'.format(BMI))"
   ]
  },
  {
   "cell_type": "code",
   "execution_count": null,
   "id": "656cc454",
   "metadata": {},
   "outputs": [],
   "source": []
  }
 ],
 "metadata": {
  "kernelspec": {
   "display_name": "Python 3",
   "language": "python",
   "name": "python3"
  },
  "language_info": {
   "codemirror_mode": {
    "name": "ipython",
    "version": 3
   },
   "file_extension": ".py",
   "mimetype": "text/x-python",
   "name": "python",
   "nbconvert_exporter": "python",
   "pygments_lexer": "ipython3",
   "version": "3.8.10"
  }
 },
 "nbformat": 4,
 "nbformat_minor": 5
}
