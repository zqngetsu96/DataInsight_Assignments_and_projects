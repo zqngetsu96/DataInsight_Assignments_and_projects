{
  "nbformat": 4,
  "nbformat_minor": 0,
  "metadata": {
    "colab": {
      "name": "Entry level CNNs.ipynb",
      "provenance": [],
      "collapsed_sections": []
    },
    "kernelspec": {
      "name": "python3",
      "display_name": "Python 3"
    },
    "language_info": {
      "name": "python"
    },
    "accelerator": "GPU",
    "gpuClass": "standard"
  },
  "cells": [
    {
      "cell_type": "markdown",
      "source": [
        "### Note: This is a colab notebook. It's better to use google colab"
      ],
      "metadata": {
        "id": "991VlaAMtgyh"
      }
    },
    {
      "cell_type": "code",
      "execution_count": 1,
      "metadata": {
        "id": "4H6KQHDhtba1"
      },
      "outputs": [],
      "source": [
        "import matplotlib.pyplot as plt\n",
        "import numpy as np\n",
        "import pandas as pd\n",
        "import tensorflow as tf\n",
        "from tensorflow.keras.models import Sequential\n",
        "from tensorflow.keras.layers import Conv2D, Dropout, MaxPooling2D, Flatten, Dense\n",
        "from tensorflow.keras.datasets.cifar10 import load_data as cif_load"
      ]
    },
    {
      "cell_type": "code",
      "source": [
        "(X_train, y_train), (X_test, y_test) = cif_load()"
      ],
      "metadata": {
        "id": "IluW3g2Mt1p4"
      },
      "execution_count": 2,
      "outputs": []
    },
    {
      "cell_type": "code",
      "source": [
        "print(X_train.shape)\n",
        "print(X_test.shape)\n",
        "print(y_train.shape)\n",
        "print(y_test.shape)"
      ],
      "metadata": {
        "colab": {
          "base_uri": "https://localhost:8080/"
        },
        "id": "Y5sNNarut-ig",
        "outputId": "6fecc36d-140b-425c-cd6f-a007eb2098f4"
      },
      "execution_count": 3,
      "outputs": [
        {
          "output_type": "stream",
          "name": "stdout",
          "text": [
            "(50000, 32, 32, 3)\n",
            "(10000, 32, 32, 3)\n",
            "(50000, 1)\n",
            "(10000, 1)\n"
          ]
        }
      ]
    },
    {
      "cell_type": "code",
      "source": [
        "## We scale pixel values to the range of [0-1]\n",
        "\n",
        "X_train= X_train / 255.0\n",
        "X_test = X_test / 255.0"
      ],
      "metadata": {
        "id": "HsvOg8mZuCYY"
      },
      "execution_count": 4,
      "outputs": []
    },
    {
      "cell_type": "code",
      "source": [
        "## We one hot encode the labels (Transform form 1-10 to a binary vector)\n",
        "y_train = pd.get_dummies(y_train.reshape(-1)).values\n",
        "y_test = pd.get_dummies(y_test.reshape(-1)).values"
      ],
      "metadata": {
        "id": "PHOqJ3x6uQnx"
      },
      "execution_count": 5,
      "outputs": []
    },
    {
      "cell_type": "code",
      "source": [
        "model = Sequential([\n",
        "    Conv2D(32, (3,3), input_shape=(32, 32, 3), padding=\"same\", activation=\"relu\"), ## 3x3 kernel with a stride of 1 and same padding\n",
        "    Dropout(0.3),\n",
        "    Conv2D(32, (3,3), padding=\"same\", activation=\"relu\"), ## 3x3 kernel with a stride of 1 and same padding\n",
        "    MaxPooling2D(),\n",
        "    Flatten(),\n",
        "    Dense(512, activation=\"relu\"), ## ANN block\n",
        "    Dropout(0.5), ## Dropout to avoid overfitting\n",
        "    Dense(10, activation=\"softmax\")\n",
        "])\n",
        " \n",
        "model.compile(optimizer=\"adam\",\n",
        "              loss=\"categorical_crossentropy\", \n",
        "              metrics=[\"accuracy\"])\n",
        "model.summary() #display model's architecture\n",
        "EsCallback = tf.keras.callbacks.EarlyStopping(monitor='val_loss', patience=5) #We stop the training early if we end up stagnating\n",
        "\n",
        "history = model.fit(X_train, y_train, validation_data=(X_test, y_test), callbacks=[EsCallback], epochs=20, batch_size=64)"
      ],
      "metadata": {
        "colab": {
          "base_uri": "https://localhost:8080/"
        },
        "id": "3DRVdkz8uq8H",
        "outputId": "279fa50a-af1e-4e38-b37d-3461b8bc3bc4"
      },
      "execution_count": 8,
      "outputs": [
        {
          "output_type": "stream",
          "name": "stdout",
          "text": [
            "Model: \"sequential_1\"\n",
            "_________________________________________________________________\n",
            " Layer (type)                Output Shape              Param #   \n",
            "=================================================================\n",
            " conv2d_2 (Conv2D)           (None, 32, 32, 32)        896       \n",
            "                                                                 \n",
            " dropout_2 (Dropout)         (None, 32, 32, 32)        0         \n",
            "                                                                 \n",
            " conv2d_3 (Conv2D)           (None, 32, 32, 32)        9248      \n",
            "                                                                 \n",
            " max_pooling2d_1 (MaxPooling  (None, 16, 16, 32)       0         \n",
            " 2D)                                                             \n",
            "                                                                 \n",
            " flatten_1 (Flatten)         (None, 8192)              0         \n",
            "                                                                 \n",
            " dense_2 (Dense)             (None, 512)               4194816   \n",
            "                                                                 \n",
            " dropout_3 (Dropout)         (None, 512)               0         \n",
            "                                                                 \n",
            " dense_3 (Dense)             (None, 10)                5130      \n",
            "                                                                 \n",
            "=================================================================\n",
            "Total params: 4,210,090\n",
            "Trainable params: 4,210,090\n",
            "Non-trainable params: 0\n",
            "_________________________________________________________________\n",
            "Epoch 1/20\n",
            "782/782 [==============================] - 8s 9ms/step - loss: 1.6189 - accuracy: 0.4093 - val_loss: 1.3102 - val_accuracy: 0.5323\n",
            "Epoch 2/20\n",
            "782/782 [==============================] - 7s 9ms/step - loss: 1.2624 - accuracy: 0.5506 - val_loss: 1.1017 - val_accuracy: 0.6114\n",
            "Epoch 3/20\n",
            "782/782 [==============================] - 7s 9ms/step - loss: 1.1155 - accuracy: 0.6039 - val_loss: 1.0326 - val_accuracy: 0.6403\n",
            "Epoch 4/20\n",
            "782/782 [==============================] - 7s 9ms/step - loss: 1.0035 - accuracy: 0.6438 - val_loss: 0.9750 - val_accuracy: 0.6636\n",
            "Epoch 5/20\n",
            "782/782 [==============================] - 7s 9ms/step - loss: 0.9250 - accuracy: 0.6729 - val_loss: 0.9389 - val_accuracy: 0.6750\n",
            "Epoch 6/20\n",
            "782/782 [==============================] - 7s 9ms/step - loss: 0.8470 - accuracy: 0.7026 - val_loss: 0.9106 - val_accuracy: 0.6850\n",
            "Epoch 7/20\n",
            "782/782 [==============================] - 8s 10ms/step - loss: 0.7873 - accuracy: 0.7190 - val_loss: 0.9083 - val_accuracy: 0.6846\n",
            "Epoch 8/20\n",
            "782/782 [==============================] - 7s 9ms/step - loss: 0.7244 - accuracy: 0.7412 - val_loss: 0.9124 - val_accuracy: 0.6889\n",
            "Epoch 9/20\n",
            "782/782 [==============================] - 7s 9ms/step - loss: 0.6727 - accuracy: 0.7602 - val_loss: 0.9527 - val_accuracy: 0.6808\n",
            "Epoch 10/20\n",
            "782/782 [==============================] - 7s 9ms/step - loss: 0.6282 - accuracy: 0.7744 - val_loss: 0.9618 - val_accuracy: 0.6846\n",
            "Epoch 11/20\n",
            "782/782 [==============================] - 7s 9ms/step - loss: 0.5799 - accuracy: 0.7904 - val_loss: 0.9701 - val_accuracy: 0.6881\n",
            "Epoch 12/20\n",
            "782/782 [==============================] - 7s 9ms/step - loss: 0.5415 - accuracy: 0.8053 - val_loss: 0.9740 - val_accuracy: 0.6900\n"
          ]
        }
      ]
    },
    {
      "cell_type": "code",
      "source": [
        "print(history.history.keys())\n",
        "# summarize history for accuracy\n",
        "plt.plot(history.history['accuracy'])\n",
        "plt.plot(history.history['val_accuracy'])\n",
        "plt.title('model accuracy')\n",
        "plt.ylabel('accuracy')\n",
        "plt.xlabel('epoch')\n",
        "plt.legend(['train', 'test'], loc='upper left')\n",
        "plt.show()\n",
        "# summarize history for loss\n",
        "plt.plot(history.history['loss'])\n",
        "plt.plot(history.history['val_loss'])\n",
        "plt.title('model loss')\n",
        "plt.ylabel('loss')\n",
        "plt.xlabel('epoch')\n",
        "plt.legend(['train', 'test'], loc='upper left')\n",
        "plt.show()"
      ],
      "metadata": {
        "colab": {
          "base_uri": "https://localhost:8080/",
          "height": 590
        },
        "id": "7TsnwXhTvGiw",
        "outputId": "24119511-21fc-406c-cb9c-3fab8bf98ce9"
      },
      "execution_count": 9,
      "outputs": [
        {
          "output_type": "stream",
          "name": "stdout",
          "text": [
            "dict_keys(['loss', 'accuracy', 'val_loss', 'val_accuracy'])\n"
          ]
        },
        {
          "output_type": "display_data",
          "data": {
            "text/plain": [
              "<Figure size 432x288 with 1 Axes>"
            ],
            "image/png": "[encoded data removed]"
          },
          "metadata": {
            "needs_background": "light"
          }
        },
        {
          "output_type": "display_data",
          "data": {
            "text/plain": [
              "<Figure size 432x288 with 1 Axes>"
            ],
            "image/png": "[encoded data removed]"
          },
          "metadata": {
            "needs_background": "light"
          }
        }
      ]
    },
    {
      "cell_type": "code",
      "source": [
        "[loss,acc] = model.evaluate(X_test,y_test)\n",
        "print(\"Accuracy is {} %\".format(acc))\n",
        "print(\"Loss is is {}\".format(loss))"
      ],
      "metadata": {
        "colab": {
          "base_uri": "https://localhost:8080/"
        },
        "id": "huIp_2ABvUs1",
        "outputId": "743b1ce9-9192-436b-b8a2-28c1123a9726"
      },
      "execution_count": 16,
      "outputs": [
        {
          "output_type": "stream",
          "name": "stdout",
          "text": [
            "313/313 [==============================] - 2s 6ms/step - loss: 0.9740 - accuracy: 0.6900\n",
            "Accuracy is 0.6899999976158142 %\n",
            "Loss is is 0.9739875793457031\n"
          ]
        }
      ]
    },
    {
      "cell_type": "code",
      "source": [
        ""
      ],
      "metadata": {
        "id": "3fewHPbEyVB0"
      },
      "execution_count": null,
      "outputs": []
    }
  ]
}