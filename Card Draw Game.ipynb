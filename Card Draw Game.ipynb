{
 "cells": [
  {
   "cell_type": "code",
   "execution_count": 1,
   "id": "bf3b594a",
   "metadata": {
    "scrolled": true
   },
   "outputs": [
    {
     "name": "stdout",
     "output_type": "stream",
     "text": [
      "Hello\n",
      "\n",
      "Welcome to this simple card draw game, How lucky are you feeling today?\n",
      "The minimum draw value is 1 and the maximum draw value is 15\n",
      "You will have a maximum of 5 a draws but you can choose to reveal cards whenever you want if you feel like you have a higher count that the computer\n",
      "\n",
      "The computer will always have to draw the same number of cards as you! so don't worry it won't have more cards!\n",
      "Best of luck!\n"
     ]
    }
   ],
   "source": [
    "print('''Hello\\n\n",
    "Welcome to this simple card draw game, How lucky are you feeling today?\n",
    "The minimum draw value is 1 and the maximum draw value is 15\n",
    "You will have a maximum of 5 a draws but you can choose to reveal cards whenever you want if you feel like you have a higher count that the computer\\n\n",
    "The computer will always have to draw the same number of cards as you! so don't worry it won't have more cards!\n",
    "Best of luck!''')"
   ]
  },
  {
   "cell_type": "code",
   "execution_count": 2,
   "id": "b12c93ec",
   "metadata": {},
   "outputs": [],
   "source": [
    "user_cards = list()\n",
    "computer_cards = list()\n",
    "draws = 5\n",
    "current_draw = 0"
   ]
  },
  {
   "cell_type": "code",
   "execution_count": 4,
   "id": "b8fd9c5c",
   "metadata": {},
   "outputs": [
    {
     "name": "stdout",
     "output_type": "stream",
     "text": [
      "You drew a 3\n",
      "your current deck is [3]\n",
      "Do you want to continue drawing? [y]/n\t\n",
      "You drew a 11\n",
      "your current deck is [3, 11]\n",
      "Do you want to continue drawing? [y]/n\t\n",
      "You drew a 3\n",
      "your current deck is [3, 11, 3]\n",
      "Do you want to continue drawing? [y]/n\t\n",
      "You drew a 11\n",
      "your current deck is [3, 11, 3, 11]\n",
      "Do you want to continue drawing? [y]/n\t\n",
      "You drew a 4\n",
      "your current deck is [3, 11, 3, 11, 4]\n",
      "That was the final draw, let's see if you'll win or not ;) \n"
     ]
    }
   ],
   "source": [
    "import numpy as np\n",
    "while current_draw < draws:\n",
    "    u_d = np.random.randint(1,13)\n",
    "    c_d = np.random.randint(1,13)\n",
    "    \n",
    "    user_cards.append(u_d)\n",
    "    computer_cards.append(c_d)\n",
    "    \n",
    "    print('You drew a {}'.format(u_d))\n",
    "    print('your current deck is {}'.format(user_cards))\n",
    "    if current_draw == 4:\n",
    "        print('That was the final draw, let\\'s see if you\\'ll win or not ;) ')\n",
    "        break\n",
    "    c = input('Do you want to continue drawing? [y]/n\\t')\n",
    "    if c == 'n':\n",
    "        break\n",
    "    current_draw+=1"
   ]
  },
  {
   "cell_type": "code",
   "execution_count": 5,
   "id": "557100dc",
   "metadata": {},
   "outputs": [
    {
     "name": "stdout",
     "output_type": "stream",
     "text": [
      "Congratz!!! You won with a score of 32(you) against 31 (computer)\n"
     ]
    }
   ],
   "source": [
    "c_cs = sum(computer_cards) #computer cards sum\n",
    "u_cs = sum(user_cards) #user cards sum\n",
    "if c_cs > u_cs:\n",
    "    print('Oh oh, that\\'s unlucky! the computer won with a score of {} (computer) against {} (you)'.format(c_cs,u_cs))\n",
    "elif u_cs > c_cs:\n",
    "    print('Congratz!!! You won with a score of {}(you) against {} (computer)'.format(u_cs,c_cs))\n",
    "else:\n",
    "    print('This is pretty rare but this was a draw with a both having a sum of'.format(u_cs))\n"
   ]
  },
  {
   "cell_type": "code",
   "execution_count": null,
   "id": "672a19ca",
   "metadata": {},
   "outputs": [],
   "source": []
  }
 ],
 "metadata": {
  "kernelspec": {
   "display_name": "Python 3",
   "language": "python",
   "name": "python3"
  },
  "language_info": {
   "codemirror_mode": {
    "name": "ipython",
    "version": 3
   },
   "file_extension": ".py",
   "mimetype": "text/x-python",
   "name": "python",
   "nbconvert_exporter": "python",
   "pygments_lexer": "ipython3",
   "version": "3.8.10"
  }
 },
 "nbformat": 4,
 "nbformat_minor": 5
}
